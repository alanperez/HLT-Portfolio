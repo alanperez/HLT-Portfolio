{
  "nbformat": 4,
  "nbformat_minor": 0,
  "metadata": {
    "colab": {
      "provenance": [],
      "collapsed_sections": [
        "sDnfnQajRE42"
      ],
      "authorship_tag": "ABX9TyNUQuR88QlwqkS1ry1j2KfA",
      "include_colab_link": true
    },
    "kernelspec": {
      "name": "python3",
      "display_name": "Python 3"
    },
    "language_info": {
      "name": "python"
    }
  },
  "cells": [
    {
      "cell_type": "markdown",
      "metadata": {
        "id": "view-in-github",
        "colab_type": "text"
      },
      "source": [
        "<a href=\"https://colab.research.google.com/github/alanperez/HLT-Portfolio/blob/main/CS4395_001_WordNet_AXP200075.ipynb\" target=\"_parent\"><img src=\"https://colab.research.google.com/assets/colab-badge.svg\" alt=\"Open In Colab\"/></a>"
      ]
    },
    {
      "cell_type": "markdown",
      "source": [
        "**Alan Perez** |\n",
        "**AXP200075** |\n",
        "**CS 4395.001** |\n",
        "**Assignment 3**"
      ],
      "metadata": {
        "id": "-yCsEW-EQdHb"
      }
    },
    {
      "cell_type": "markdown",
      "source": [
        "### **Wordnet**\n",
        "is a lexical database of nouns, verbs, adjectives, and adverbs that provides short definitions called glosses, and use examples. Its grouped into cognitive synonymns (synsets) "
      ],
      "metadata": {
        "id": "VShD21HMigns"
      }
    },
    {
      "cell_type": "code",
      "source": [
        "import nltk\n",
        "from nltk.corpus import wordnet as wn\n",
        "from nltk.wsd import lesk\n",
        "from nltk.corpus import sentiwordnet as swn\n",
        "\n",
        "nltk.download('stopwords')\n",
        "nltk.download('treebank')\n",
        "nltk.download('webtext')\n",
        "nltk.download('nps_chat')\n",
        "nltk.download('inaugural')\n",
        "nltk.download('genesis')\n",
        "nltk.download('gutenberg')\n",
        "from nltk.book import *\n",
        "text4\n",
        "nltk.download('sentiwordnet')\n",
        "nltk.download('wordnet')\n",
        "nltk.download('omw-1.4')"
      ],
      "metadata": {
        "colab": {
          "base_uri": "https://localhost:8080/"
        },
        "id": "QwYPkXJqik8x",
        "outputId": "aec06913-8c8a-40d7-97f7-8cbd7abaa9f6"
      },
      "execution_count": 128,
      "outputs": [
        {
          "output_type": "stream",
          "name": "stderr",
          "text": [
            "[nltk_data] Downloading package stopwords to /root/nltk_data...\n",
            "[nltk_data]   Unzipping corpora/stopwords.zip.\n",
            "[nltk_data] Downloading package treebank to /root/nltk_data...\n",
            "[nltk_data]   Package treebank is already up-to-date!\n",
            "[nltk_data] Downloading package webtext to /root/nltk_data...\n",
            "[nltk_data]   Package webtext is already up-to-date!\n",
            "[nltk_data] Downloading package nps_chat to /root/nltk_data...\n",
            "[nltk_data]   Package nps_chat is already up-to-date!\n",
            "[nltk_data] Downloading package inaugural to /root/nltk_data...\n",
            "[nltk_data]   Package inaugural is already up-to-date!\n",
            "[nltk_data] Downloading package genesis to /root/nltk_data...\n",
            "[nltk_data]   Package genesis is already up-to-date!\n",
            "[nltk_data] Downloading package gutenberg to /root/nltk_data...\n",
            "[nltk_data]   Package gutenberg is already up-to-date!\n",
            "[nltk_data] Downloading package sentiwordnet to /root/nltk_data...\n",
            "[nltk_data]   Package sentiwordnet is already up-to-date!\n",
            "[nltk_data] Downloading package wordnet to /root/nltk_data...\n",
            "[nltk_data]   Package wordnet is already up-to-date!\n",
            "[nltk_data] Downloading package omw-1.4 to /root/nltk_data...\n",
            "[nltk_data]   Package omw-1.4 is already up-to-date!\n"
          ]
        },
        {
          "output_type": "execute_result",
          "data": {
            "text/plain": [
              "True"
            ]
          },
          "metadata": {},
          "execution_count": 128
        }
      ]
    },
    {
      "cell_type": "markdown",
      "source": [
        "The code beloow gets all the synsets of 'game'\n",
        "\n",
        "Each synset has an ID. The form of the ID is word.pos.nn\n",
        "\n",
        "For example, 'game.n.01' is the first noun senset while 'game.v.01' is the first verb sysnet.\n",
        "\n",
        "\n",
        "For a given synset, we can extract:\n",
        "\n",
        "\n",
        "*   a definition\n",
        "*   usage examples\n",
        "*   lemmas\n"
      ],
      "metadata": {
        "id": "MTU3racZigI2"
      }
    },
    {
      "cell_type": "code",
      "source": [
        "wn.synsets(\"game\")\n",
        "\n",
        "print(\"Printing the synsets of game: \", wn.synsets(\"game\"))\n",
        "# hold synsets\n",
        "syn = wn.synset(\"game.n.01\")\n",
        "\n",
        "\n",
        "# definition for the first noun synset\n",
        "print(\"definition of game: \", wn.synset(\"game.n.01\").definition())\n",
        "\n",
        "# usage examples\n",
        "print(\"usage examples of game.n.01: \", wn.synset(\"game.n.01\").examples())\n",
        "\n",
        "# lemmas\n",
        "print(\"lemmas of game.n.01: \", wn.synset(\"game.n.01\").lemmas())\n",
        "\n",
        "game_synsets = wn.synsets('game', pos=wn.NOUN)\n",
        "for syn in game_synsets:\n",
        "  print(\"lemmas of game: \", syn.lemmas(), syn.definition())\n",
        "\n",
        "# traversing the WordNet hierarchy\n",
        "hyp = syn.hypernyms()[0]\n",
        "top = wn.synset(\"entity.n.01\")\n",
        "while hyp:\n",
        "  print(\"printing the hypernymns of noun: \", hyp)\n",
        "  if hyp == top:\n",
        "    break\n",
        "  if hyp.hypernyms():\n",
        "    hyp = hyp.hypernyms()[0]\n",
        "\n"
      ],
      "metadata": {
        "colab": {
          "base_uri": "https://localhost:8080/"
        },
        "id": "klQKqAnwjhTw",
        "outputId": "918fc774-8efd-4ba2-9354-8c62c0c60d75"
      },
      "execution_count": 195,
      "outputs": [
        {
          "output_type": "stream",
          "name": "stdout",
          "text": [
            "Printing the synsets of game:  [Synset('game.n.01'), Synset('game.n.02'), Synset('game.n.03'), Synset('game.n.04'), Synset('game.n.05'), Synset('game.n.06'), Synset('game.n.07'), Synset('plot.n.01'), Synset('game.n.09'), Synset('game.n.10'), Synset('game.n.11'), Synset('bet_on.v.01'), Synset('crippled.s.01'), Synset('game.s.02')]\n",
            "definition of game:  a contest with rules to determine a winner\n",
            "usage examples of game.n.01:  ['you need four people to play this game']\n",
            "lemmas of game.n.01:  [Lemma('game.n.01.game')]\n",
            "lemmas of game:  [Lemma('game.n.01.game')] a contest with rules to determine a winner\n",
            "lemmas of game:  [Lemma('game.n.02.game')] a single play of a sport or other contest\n",
            "lemmas of game:  [Lemma('game.n.03.game')] an amusement or pastime\n",
            "lemmas of game:  [Lemma('game.n.04.game')] animal hunted for food or sport\n",
            "lemmas of game:  [Lemma('game.n.05.game')] (tennis) a division of play during which one player serves\n",
            "lemmas of game:  [Lemma('game.n.06.game')] (games) the score at a particular point or the score needed to win\n",
            "lemmas of game:  [Lemma('game.n.07.game')] the flesh of wild animals that is used for food\n",
            "lemmas of game:  [Lemma('plot.n.01.plot'), Lemma('plot.n.01.secret_plan'), Lemma('plot.n.01.game')] a secret scheme to do something (especially something underhand or illegal)\n",
            "lemmas of game:  [Lemma('game.n.09.game')] the game equipment needed in order to play a particular game\n",
            "lemmas of game:  [Lemma('game.n.10.game'), Lemma('game.n.10.biz')] your occupation or line of work\n",
            "lemmas of game:  [Lemma('game.n.11.game')] frivolous or trifling behavior\n",
            "printing the hypernymns of noun:  Synset('play.n.14')\n",
            "printing the hypernymns of noun:  Synset('diversion.n.01')\n",
            "printing the hypernymns of noun:  Synset('activity.n.01')\n",
            "printing the hypernymns of noun:  Synset('act.n.02')\n",
            "printing the hypernymns of noun:  Synset('event.n.01')\n",
            "printing the hypernymns of noun:  Synset('psychological_feature.n.01')\n",
            "printing the hypernymns of noun:  Synset('abstraction.n.06')\n",
            "printing the hypernymns of noun:  Synset('entity.n.01')\n"
          ]
        }
      ]
    },
    {
      "cell_type": "markdown",
      "source": [
        "WordNet is outputting the different meanings of 'game' and represents the different meanings along with the relationship to WordNet. I displayed each definition since of the synsets of game to show the different definitions 'game' could mean. The hierarchy of the synset has 'entity' as the top level and I noticed that as we went down the top level it started to become more specific which gives a better understanding of the words as we go down. "
      ],
      "metadata": {
        "id": "sBYK087LjXVQ"
      }
    },
    {
      "cell_type": "markdown",
      "source": [
        "Output the following (or an empty list if none exist): hypernyms, hyponyms, meronyms,\n",
        "holonyms, antonym.\n"
      ],
      "metadata": {
        "id": "6jdr30Jy5Bwe"
      }
    },
    {
      "cell_type": "code",
      "source": [
        "print(\"Hypernyms\", syn.hypernyms())\n",
        "print(\"Hynonymn\", syn.hyponyms())\n",
        "print(\"Meronyms\", syn.member_meronyms())\n",
        "print(\"Holonyms\", syn.member_holonyms())\n",
        "print(\"Antonym\", syn.lemmas()[0].antonyms())"
      ],
      "metadata": {
        "colab": {
          "base_uri": "https://localhost:8080/"
        },
        "id": "PkKzRGKa5G7E",
        "outputId": "f35fa26a-e8ec-4426-908b-f6474769ed99"
      },
      "execution_count": 172,
      "outputs": [
        {
          "output_type": "stream",
          "name": "stdout",
          "text": [
            "Hypernyms [Synset('play.n.14')]\n",
            "Hynonymn []\n",
            "Meronyms []\n",
            "Holonyms []\n",
            "Antonym []\n"
          ]
        }
      ]
    },
    {
      "cell_type": "markdown",
      "source": [
        "# Select a verb, Output all synsets"
      ],
      "metadata": {
        "id": "CT2oPA716qP2"
      }
    },
    {
      "cell_type": "code",
      "source": [
        "# select a verb\n",
        "syn_verb = wn.synset(\"game.v.01\")\n",
        "\n",
        "# definition for the first verb synset\n",
        "print(\"definition: \", wn.synset('game.v.01').definition())\n",
        "\n",
        "# usage examples\n",
        "print(\"usage examples: \", wn.synset('game.v.01').examples())\n",
        "\n",
        "# lemmas\n",
        "print(\"lemmas: \", wn.synset('game.v.01').lemmas())\n",
        "\n",
        "\n",
        "# Printing the def of the synsets\n",
        "verb_synsets = wn.synsets('game', pos=wn.VERB)\n",
        "\n",
        "for luv in verb_synsets:\n",
        "  lemmas = [l.name() for l in luv.lemmas()]\n",
        "  print(\"Synset: \" + luv.name() + \"(\" +luv.definition() + \") \\n\\t Lemmas: \" + str(lemmas))\n",
        "\n",
        "# Traverse up the WordNet hierarchy\n",
        "hyp = syn_verb.hypernyms()[0]\n",
        "while hyp:\n",
        "  print(hyp)\n",
        "  if hyp.hypernyms():\n",
        "    hyp = hyp.hypernyms()[0]\n",
        "  else:\n",
        "    break\n"
      ],
      "metadata": {
        "colab": {
          "base_uri": "https://localhost:8080/"
        },
        "id": "jeFybtvY6xUS",
        "outputId": "9c230f18-ccce-4911-ae06-8e387df8aef7"
      },
      "execution_count": 164,
      "outputs": [
        {
          "output_type": "stream",
          "name": "stdout",
          "text": [
            "definition:  place a bet on\n",
            "usage examples:  ['Which horse are you backing?', \"I'm betting on the new horse\"]\n",
            "lemmas:  [Lemma('bet_on.v.01.bet_on'), Lemma('bet_on.v.01.back'), Lemma('bet_on.v.01.gage'), Lemma('bet_on.v.01.stake'), Lemma('bet_on.v.01.game'), Lemma('bet_on.v.01.punt')]\n",
            "Synset: bet_on.v.01(place a bet on) \n",
            "\t Lemmas: ['bet_on', 'back', 'gage', 'stake', 'game', 'punt']\n",
            "Synset('bet.v.02')\n",
            "Synset('gamble.v.02')\n",
            "Synset('play.v.01')\n",
            "Synset('compete.v.01')\n"
          ]
        }
      ]
    },
    {
      "cell_type": "markdown",
      "source": [
        "When traversing through hierarchy of a verb versus a non, I noticed that depending on the verb selected the meanings might be a bit broad. The use of a different verb and the related synsets could potentially give a better understand and the contexts of the verb."
      ],
      "metadata": {
        "id": "RndrwQxorFBu"
      }
    },
    {
      "cell_type": "markdown",
      "source": [
        "# Use morphy to find as many different forms of the word"
      ],
      "metadata": {
        "id": "b-BAvDlN_Q_9"
      }
    },
    {
      "cell_type": "code",
      "source": [
        "print(wn.morphy(\"game\", wn.NOUN))\n",
        "print(wn.morphy(\"game\", wn.VERB))\n",
        "print(wn.morphy(\"game\", wn.ADJ))\n",
        "print(wn.morphy(\"play\"))"
      ],
      "metadata": {
        "colab": {
          "base_uri": "https://localhost:8080/"
        },
        "id": "VXfQ1IQ8_QNT",
        "outputId": "d06946c4-82b7-4efe-cf00-a53554824239"
      },
      "execution_count": 175,
      "outputs": [
        {
          "output_type": "stream",
          "name": "stdout",
          "text": [
            "game\n",
            "game\n",
            "game\n",
            "play\n"
          ]
        }
      ]
    },
    {
      "cell_type": "markdown",
      "source": [
        "# Wu-Palmer & Lesk Algorithm\n",
        "\n",
        "calculating the similarity of two words and checking the context"
      ],
      "metadata": {
        "id": "BBI0gTf_AA4s"
      }
    },
    {
      "cell_type": "code",
      "source": [
        "#two words that might be similar. Find the specific synsets you are interested in.\n",
        "\n",
        "\n",
        "sim1_synset = wn.synsets(\"fondness\")\n",
        "sim2_synset = wn.synsets(\"devotion\")\n",
        "\n",
        "print(\"First word: \", sim1_synset)\n",
        "print(\"Second word: \", sim2_synset)\n",
        "\n",
        "sim3_synset = wn.synsets(\"game\")\n",
        "sim4_synset = wn.synsets(\"play\")\n",
        "\n",
        "print(\"First word: \", sim1_synset)\n",
        "print(\"Second word: \", sim2_synset)\n",
        "\n",
        "print(\"Third word: \", sim3_synset)\n",
        "print(\"Fourth word: \", sim4_synset)\n",
        "\n"
      ],
      "metadata": {
        "colab": {
          "base_uri": "https://localhost:8080/"
        },
        "id": "DqvjKwgZAFnF",
        "outputId": "59f4e02e-e851-4a2d-fe38-edca0a2865f4"
      },
      "execution_count": 179,
      "outputs": [
        {
          "output_type": "stream",
          "name": "stdout",
          "text": [
            "First word:  [Synset('fondness.n.01'), Synset('affection.n.01'), Synset('affectionateness.n.02')]\n",
            "Second word:  [Synset('devotion.n.01'), Synset('devotion.n.02'), Synset('idolatry.n.01'), Synset('devotion.n.04')]\n",
            "First word:  [Synset('fondness.n.01'), Synset('affection.n.01'), Synset('affectionateness.n.02')]\n",
            "Second word:  [Synset('devotion.n.01'), Synset('devotion.n.02'), Synset('idolatry.n.01'), Synset('devotion.n.04')]\n",
            "Third word:  [Synset('game.n.01'), Synset('game.n.02'), Synset('game.n.03'), Synset('game.n.04'), Synset('game.n.05'), Synset('game.n.06'), Synset('game.n.07'), Synset('plot.n.01'), Synset('game.n.09'), Synset('game.n.10'), Synset('game.n.11'), Synset('bet_on.v.01'), Synset('crippled.s.01'), Synset('game.s.02')]\n",
            "Fourth word:  [Synset('play.n.01'), Synset('play.n.02'), Synset('play.n.03'), Synset('maneuver.n.03'), Synset('play.n.05'), Synset('play.n.06'), Synset('bid.n.02'), Synset('play.n.08'), Synset('playing_period.n.01'), Synset('free_rein.n.01'), Synset('shimmer.n.01'), Synset('fun.n.02'), Synset('looseness.n.05'), Synset('play.n.14'), Synset('turn.n.03'), Synset('gambling.n.01'), Synset('play.n.17'), Synset('play.v.01'), Synset('play.v.02'), Synset('play.v.03'), Synset('act.v.03'), Synset('play.v.05'), Synset('play.v.06'), Synset('play.v.07'), Synset('act.v.05'), Synset('play.v.09'), Synset('play.v.10'), Synset('play.v.11'), Synset('play.v.12'), Synset('play.v.13'), Synset('play.v.14'), Synset('play.v.15'), Synset('play.v.16'), Synset('play.v.17'), Synset('play.v.18'), Synset('toy.v.02'), Synset('play.v.20'), Synset('dally.v.04'), Synset('play.v.22'), Synset('dally.v.01'), Synset('play.v.24'), Synset('act.v.10'), Synset('play.v.26'), Synset('bring.v.03'), Synset('play.v.28'), Synset('play.v.29'), Synset('bet.v.02'), Synset('play.v.31'), Synset('play.v.32'), Synset('play.v.33'), Synset('meet.v.10'), Synset('play.v.35')]\n"
          ]
        }
      ]
    },
    {
      "cell_type": "code",
      "source": [
        "fond = wn.synset(\"fondness.n.01\")\n",
        "devote = wn.synset(\"devotion.n.01\")\n",
        "\n",
        "# initially comparring universe & universal, switched to game & play\n",
        "univ1 = wn.synset(\"game.n.01\")\n",
        "univ2 = wn.synset(\"play.n.01\")\n",
        "# Run the Wu-Palmer similarity metric and the Lesk algorithm\n",
        "# Wu-Palmer Similiarity Metric\n",
        "print(\"similarity for fondness & devotion: \", wn.wup_similarity(fond, devote))\n",
        "\n",
        "print(\"similarity for play and game: \", wn.wup_similarity(univ1, univ2))\n",
        "\n",
        "# Lesk Algorithm, look at the definitions for 'game', 'play'\n",
        "for ss in wn.synsets(\"devotion\"):\n",
        "  print(ss, ss.definition())\n",
        "\n",
        "for ss in wn.synsets(\"game\"):\n",
        "  print(ss, ss.definition())\n",
        "\n",
        "for ss in wn.synsets(\"play\"):\n",
        "  print(ss, ss.definition())\n",
        "\n",
        "sent = [\"I\", \"have\", \"the\", \"devotion\", \"for\", \"this\", \"game\", \".\"]\n",
        "sent2 = [\"this\", \"game\", \"is\", \"fun\", \"to\", \"watch\", \"and\", \"play\", \".\"]\n",
        "\n",
        "# print(lesk(sent, \"devotion\", \"n\"))\n",
        "print(lesk(sent, \"devotion\"))\n",
        "print(lesk(sent2, \"play\"))"
      ],
      "metadata": {
        "colab": {
          "base_uri": "https://localhost:8080/"
        },
        "id": "IcmceJt0_aTL",
        "outputId": "583c27be-aeaa-4eec-805e-d308c4fd03d5"
      },
      "execution_count": 188,
      "outputs": [
        {
          "output_type": "stream",
          "name": "stdout",
          "text": [
            "similarity for fondness & devotion:  0.6666666666666666\n",
            "similarity for play and game:  0.2857142857142857\n",
            "Synset('devotion.n.01') feelings of ardent love\n",
            "Synset('devotion.n.02') commitment to some purpose\n",
            "Synset('idolatry.n.01') religious zeal; the willingness to serve God\n",
            "Synset('devotion.n.04') (usually plural) religious observance or prayers (usually spoken silently)\n",
            "Synset('game.n.01') a contest with rules to determine a winner\n",
            "Synset('game.n.02') a single play of a sport or other contest\n",
            "Synset('game.n.03') an amusement or pastime\n",
            "Synset('game.n.04') animal hunted for food or sport\n",
            "Synset('game.n.05') (tennis) a division of play during which one player serves\n",
            "Synset('game.n.06') (games) the score at a particular point or the score needed to win\n",
            "Synset('game.n.07') the flesh of wild animals that is used for food\n",
            "Synset('plot.n.01') a secret scheme to do something (especially something underhand or illegal)\n",
            "Synset('game.n.09') the game equipment needed in order to play a particular game\n",
            "Synset('game.n.10') your occupation or line of work\n",
            "Synset('game.n.11') frivolous or trifling behavior\n",
            "Synset('bet_on.v.01') place a bet on\n",
            "Synset('crippled.s.01') disabled in the feet or legs\n",
            "Synset('game.s.02') willing to face danger\n",
            "Synset('play.n.01') a dramatic work intended for performance by actors on a stage\n",
            "Synset('play.n.02') a theatrical performance of a drama\n",
            "Synset('play.n.03') a preset plan of action in team sports\n",
            "Synset('maneuver.n.03') a deliberate coordinated movement requiring dexterity and skill\n",
            "Synset('play.n.05') a state in which action is feasible\n",
            "Synset('play.n.06') utilization or exercise\n",
            "Synset('bid.n.02') an attempt to get something\n",
            "Synset('play.n.08') activity by children that is guided more by imagination than by fixed rules\n",
            "Synset('playing_period.n.01') (in games or plays or other performances) the time during which play proceeds\n",
            "Synset('free_rein.n.01') the removal of constraints\n",
            "Synset('shimmer.n.01') a weak and tremulous light\n",
            "Synset('fun.n.02') verbal wit or mockery (often at another's expense but not to be taken seriously)\n",
            "Synset('looseness.n.05') movement or space for movement\n",
            "Synset('play.n.14') gay or light-hearted recreational activity for diversion or amusement\n",
            "Synset('turn.n.03') (game) the activity of doing something in an agreed succession\n",
            "Synset('gambling.n.01') the act of playing for stakes in the hope of winning (including the payment of a price for a chance to win a prize)\n",
            "Synset('play.n.17') the act using a sword (or other weapon) vigorously and skillfully\n",
            "Synset('play.v.01') participate in games or sport\n",
            "Synset('play.v.02') act or have an effect in a specified way or with a specific effect or outcome\n",
            "Synset('play.v.03') play on an instrument\n",
            "Synset('act.v.03') play a role or part\n",
            "Synset('play.v.05') be at play; be engaged in playful activity; amuse oneself in a way characteristic of children\n",
            "Synset('play.v.06') replay (as a melody)\n",
            "Synset('play.v.07') perform music on (a musical instrument)\n",
            "Synset('act.v.05') pretend to have certain qualities or state of mind\n",
            "Synset('play.v.09') move or seem to move quickly, lightly, or irregularly\n",
            "Synset('play.v.10') bet or wager (money)\n",
            "Synset('play.v.11') engage in recreational activities rather than work; occupy oneself in a diversion\n",
            "Synset('play.v.12') pretend to be somebody in the framework of a game or playful activity\n",
            "Synset('play.v.13') emit recorded sound\n",
            "Synset('play.v.14') perform on a certain location\n",
            "Synset('play.v.15') put (a card or piece) into play during a game, or act strategically as if in a card game\n",
            "Synset('play.v.16') engage in an activity as if it were a game rather than take it seriously\n",
            "Synset('play.v.17') behave in a certain way\n",
            "Synset('play.v.18') cause to emit recorded audio or video\n",
            "Synset('toy.v.02') manipulate manually or in one's mind or imagination\n",
            "Synset('play.v.20') use to one's advantage\n",
            "Synset('dally.v.04') consider not very seriously\n",
            "Synset('play.v.22') be received or accepted or interpreted in a specific way\n",
            "Synset('dally.v.01') behave carelessly or indifferently\n",
            "Synset('play.v.24') cause to move or operate freely within a bounded space\n",
            "Synset('act.v.10') perform on a stage or theater\n",
            "Synset('play.v.26') be performed or presented for public viewing\n",
            "Synset('bring.v.03') cause to happen or to occur as a consequence\n",
            "Synset('play.v.28') discharge or direct or be discharged or directed as if in a continuous stream\n",
            "Synset('play.v.29') make bets\n",
            "Synset('bet.v.02') stake on the outcome of an issue\n",
            "Synset('play.v.31') shoot or hit in a particular manner\n",
            "Synset('play.v.32') use or move\n",
            "Synset('play.v.33') employ in a game or in a specific position\n",
            "Synset('meet.v.10') contend against an opponent in a sport, game, or battle\n",
            "Synset('play.v.35') exhaust by allowing to pull on the line\n",
            "Synset('idolatry.n.01')\n",
            "Synset('play.v.15')\n"
          ]
        }
      ]
    },
    {
      "cell_type": "markdown",
      "source": [
        "Based off my observations from the definition is that play can be a noun or verb there's more context and meaning that comes from the word play over devotionn, but when it came to the similarity for play and game it was rather low. I'm assuming the reason why the output was so low was due to how \"play\" and \"game\" could be seen as. When comparing \"Devotion\" and \"Fondness\" the similarity for the Wu Palmer algorithm it gave off a higher score.\n",
        "\n",
        "When executing the Lesk algorithm it looks at the context of the words and compares them to check if its the correct meaning."
      ],
      "metadata": {
        "id": "jvd1dTg-_r2W"
      }
    },
    {
      "cell_type": "code",
      "source": [
        "\n",
        "\n",
        "print(wn.synsets(\"distressed\"))\n",
        "swn_word = swn.senti_synsets(\"distressed\")\n",
        "# sent = swn.senti_synset(\"distressed\")\n",
        "print(swn_word)\n",
        "\n",
        "# output the sentiment scores for each word\n",
        "for x in swn_word:\n",
        "  print(x)\n",
        "  print(\" Positive score = \", x.pos_score(), \" Negative score = \", x.neg_score(), \" Objective score = \", x.obj_score())\n"
      ],
      "metadata": {
        "colab": {
          "base_uri": "https://localhost:8080/"
        },
        "id": "KsOMl_CmDuMQ",
        "outputId": "11d67238-cefc-4dc0-dd80-d07f02e7c1b7"
      },
      "execution_count": 88,
      "outputs": [
        {
          "output_type": "stream",
          "name": "stdout",
          "text": [
            "[Synset('straiten.v.01'), Synset('distress.v.02'), Synset('distressed.s.01'), Synset('dysphoric.a.01'), Synset('stressed.s.01'), Synset('disquieted.s.01')]\n",
            "<filter object at 0x7f7826785880>\n",
            "<straiten.v.01: PosScore=0.0 NegScore=0.625>\n",
            " Positive score =  0.0  Negative score =  0.625  Objective score =  0.375\n",
            "<distress.v.02: PosScore=0.0 NegScore=0.5>\n",
            " Positive score =  0.0  Negative score =  0.5  Objective score =  0.5\n",
            "<distressed.s.01: PosScore=0.0 NegScore=0.625>\n",
            " Positive score =  0.0  Negative score =  0.625  Objective score =  0.375\n",
            "<dysphoric.a.01: PosScore=0.125 NegScore=0.875>\n",
            " Positive score =  0.125  Negative score =  0.875  Objective score =  0.0\n",
            "<stressed.s.01: PosScore=0.125 NegScore=0.75>\n",
            " Positive score =  0.125  Negative score =  0.75  Objective score =  0.125\n",
            "<disquieted.s.01: PosScore=0.0 NegScore=0.875>\n",
            " Positive score =  0.0  Negative score =  0.875  Objective score =  0.125\n"
          ]
        }
      ]
    },
    {
      "cell_type": "markdown",
      "source": [
        "# SentiWordNet - Polarity\n",
        "\n",
        "SentiWordNet is a lexical resource thats built on top of WordNet, it showcases the positive, negative, and objective score for all possible synsets.\n",
        "\n",
        "Selecting an emotionally charged word, finding their senti0synsets and outputting the polarity scores for each word.\n",
        "\n"
      ],
      "metadata": {
        "id": "sDnfnQajRE42"
      }
    },
    {
      "cell_type": "code",
      "source": [
        "# sentence for polarity\n",
        "# sent = \"From the beginning to the end Losers lose, winners win This is real, we ain't got to pretend.\"\n",
        "\n",
        "sent = \"Sunny days wouldn't be special if it wasn't for rain, Joy wouldn't feel so good if it wasn't for pain\"\n",
        "neg = 0\n",
        "pos = 0\n",
        "\n",
        "tokens = sent.split()\n",
        "for token in tokens:\n",
        "  syn_list = list(swn.senti_synsets(token))\n",
        "  if syn_list:\n",
        "    syn = syn_list[0]\n",
        "    neg += syn.neg_score()\n",
        "    pos += syn.pos_score()\n",
        "    print(\"Word:\", token, \"pos = \", syn.pos_score(), \"neg = \", syn.neg_score())\n",
        "\n",
        "# pos and neg added together\n",
        "print(\"neg\\tpos counts\")\n",
        "print(neg, \"\\t\", pos)\n"
      ],
      "metadata": {
        "colab": {
          "base_uri": "https://localhost:8080/"
        },
        "id": "J19OxEB5Vmxn",
        "outputId": "d6530a49-9c64-42a1-b663-4395f7a51358"
      },
      "execution_count": 115,
      "outputs": [
        {
          "output_type": "stream",
          "name": "stdout",
          "text": [
            "Word: Sunny pos =  0.5 neg =  0.0\n",
            "Word: days pos =  0.0 neg =  0.0\n",
            "Word: be pos =  0.0 neg =  0.0\n",
            "Word: special pos =  0.0 neg =  0.0\n",
            "Word: it pos =  0.0 neg =  0.0\n",
            "Word: Joy pos =  0.5 neg =  0.25\n",
            "Word: feel pos =  0.125 neg =  0.0\n",
            "Word: so pos =  0.0 neg =  0.0\n",
            "Word: good pos =  0.5 neg =  0.0\n",
            "Word: it pos =  0.0 neg =  0.0\n",
            "Word: pain pos =  0.0 neg =  0.75\n",
            "neg\tpos counts\n",
            "1.0 \t 1.625\n"
          ]
        }
      ]
    },
    {
      "cell_type": "markdown",
      "source": [
        "Upon running this we can see the individual score for each word in our sentence. Towards the end each score is calculated and displayed. For possible use cases, Th9is could be used for software that checks what the user has typed so that it checks the emotion of the sentence. We could calculate the score of the sentence and check whether the sentence is positive or negative."
      ],
      "metadata": {
        "id": "O44whcyxDD8m"
      }
    },
    {
      "cell_type": "markdown",
      "source": [
        "# Collocation\n",
        "\n",
        "Collocation is when two or more words usually occur together with frequency. They are words that go together for example \"fast food\", \"bright sun\", \"deeply regret something\", etc each word has their own meaning but when put together it can create a new distinct meaning.\n"
      ],
      "metadata": {
        "id": "cDTWYGO7ZzV6"
      }
    },
    {
      "cell_type": "code",
      "source": [
        "# get collactions\n",
        "\n",
        "text4_collaction = text4.collocations()\n",
        "\n",
        "print(text4_collaction)\n",
        "\n",
        "text = ' '.join(text4.tokens)\n",
        "text[:50]\n",
        "\n",
        "import math\n",
        "\n",
        "vocab = len(set(text4))\n",
        "ow = text.count(\"Old World\")/vocab\n",
        "print(\"p(Old World) = \", ow)\n",
        "o = text.count(\"Old\")/vocab\n",
        "print(\"p(Old) = \", o)\n",
        "\n",
        "w = text.count(\"World\")/vocab\n",
        "print(\"p(World) = \", w)\n",
        "pmi = math.log2(ow/ (o*w))\n",
        "\n",
        "\n",
        "\n",
        "print(\"pmi = \", pmi)"
      ],
      "metadata": {
        "colab": {
          "base_uri": "https://localhost:8080/"
        },
        "id": "92CXX9g8fQ5q",
        "outputId": "743acbaa-62e5-4a3e-a8f2-b97b159afcc3"
      },
      "execution_count": 196,
      "outputs": [
        {
          "output_type": "stream",
          "name": "stdout",
          "text": [
            "United States; fellow citizens; years ago; four years; Federal\n",
            "Government; General Government; American people; Vice President; God\n",
            "bless; Chief Justice; one another; fellow Americans; Old World;\n",
            "Almighty God; Fellow citizens; Chief Magistrate; every citizen; Indian\n",
            "tribes; public debt; foreign nations\n",
            "None\n",
            "p(Old World) =  0.000997506234413965\n",
            "p(Old) =  0.0010972568578553616\n",
            "p(World) =  0.0017955112219451373\n",
            "pmi =  8.983886091037398\n"
          ]
        }
      ]
    },
    {
      "cell_type": "markdown",
      "source": [
        "We're calculating the pointwise mutual information of \"Old World\" and checking the frequency the length of vocab and counting the number of times \"Old World appears. We do this for \"Old\" and \"World\" as well and return the probability. The pmi score is 8.9 which indicates a strong association between the two words. "
      ],
      "metadata": {
        "id": "Si1nDkTshnFA"
      }
    }
  ]
}
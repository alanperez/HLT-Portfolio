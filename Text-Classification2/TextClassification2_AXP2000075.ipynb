{
  "nbformat": 4,
  "nbformat_minor": 0,
  "metadata": {
    "colab": {
      "provenance": [],
      "authorship_tag": "ABX9TyPQJdlIKPHluVuIxZ7/NNBL",
      "include_colab_link": true
    },
    "kernelspec": {
      "name": "python3",
      "display_name": "Python 3"
    },
    "language_info": {
      "name": "python"
    }
  },
  "cells": [
    {
      "cell_type": "markdown",
      "metadata": {
        "id": "view-in-github",
        "colab_type": "text"
      },
      "source": [
        "<a href=\"https://colab.research.google.com/github/alanperez/HLT-Portfolio/blob/main/Text-Classification2/TextClassification2_AXP2000075.ipynb\" target=\"_parent\"><img src=\"https://colab.research.google.com/assets/colab-badge.svg\" alt=\"Open In Colab\"/></a>"
      ]
    },
    {
      "cell_type": "markdown",
      "source": [
        "Alan Perez | AXP200075 | Text Classification 2\n",
        "\n",
        "The dataset I used was the Twitter Sent Analysis, should be able to predict the sentiment of tweets\n",
        "\n",
        "https://www.kaggle.com/datasets/jp797498e/twitter-entity-sentiment-analysis"
      ],
      "metadata": {
        "id": "R2OP_UvM3SzP"
      }
    },
    {
      "cell_type": "code",
      "source": [
        "import pandas as pd\n",
        "import seaborn as sb\n",
        "import tensorflow as tf\n",
        "from tensorflow.keras.preprocessing.text import Tokenizer\n",
        "from tensorflow.keras import layers, models, preprocessing, datasets\n",
        "import numpy as np\n",
        "from sklearn.preprocessing import LabelEncoder\n",
        "import pickle"
      ],
      "metadata": {
        "id": "jYwmfBBL3VrM"
      },
      "execution_count": null,
      "outputs": []
    },
    {
      "cell_type": "code",
      "source": [
        "#load data\n",
        "\n",
        "# target column 2 which is sentiment and 3 which is tweet content\n",
        "data = pd.read_csv('twitter.csv',usecols=[2,3], names=['sentiment', 'tweet_content'],encoding='latin-1')\n",
        "\n",
        "# check for NaN values\n",
        "print(data.isna().sum())\n",
        "# check if there  are unexpected types\n",
        "\n",
        "print(data.applymap(type))\n",
        "# replace NaN with empty str\n",
        "data.fillna('', inplace=True)\n",
        "\n",
        "# convert columns to string type\n",
        "data['sentiment'] = data['sentiment'].astype(str)\n",
        "data['tweet_content'] = data['tweet_content'].astype(str)\n",
        "data = data.astype(str)\n",
        "display(data)\n",
        "\n",
        "# check the data types of each column\n",
        "print('data dtypes: ', data.dtypes)\n",
        "\n",
        "print('shape rows column: ', data.shape)\n",
        "print('head : ', data.head)\n",
        "print('tail: ', data.tail)\n",
        "\n",
        "# check for NaN values\n",
        "print(data.isna().sum())\n",
        "print(data.columns)"
      ],
      "metadata": {
        "colab": {
          "base_uri": "https://localhost:8080/",
          "height": 1000
        },
        "id": "9YusfR5X3w_J",
        "outputId": "83abb27c-1940-4f8d-c7d5-bf15771ad6d5"
      },
      "execution_count": null,
      "outputs": [
        {
          "output_type": "stream",
          "name": "stdout",
          "text": [
            "sentiment          0\n",
            "tweet_content    686\n",
            "dtype: int64\n",
            "           sentiment  tweet_content\n",
            "0      <class 'str'>  <class 'str'>\n",
            "1      <class 'str'>  <class 'str'>\n",
            "2      <class 'str'>  <class 'str'>\n",
            "3      <class 'str'>  <class 'str'>\n",
            "4      <class 'str'>  <class 'str'>\n",
            "...              ...            ...\n",
            "74677  <class 'str'>  <class 'str'>\n",
            "74678  <class 'str'>  <class 'str'>\n",
            "74679  <class 'str'>  <class 'str'>\n",
            "74680  <class 'str'>  <class 'str'>\n",
            "74681  <class 'str'>  <class 'str'>\n",
            "\n",
            "[74682 rows x 2 columns]\n"
          ]
        },
        {
          "output_type": "display_data",
          "data": {
            "text/plain": [
              "      sentiment                                      tweet_content\n",
              "0      Positive  im getting on borderlands and i will murder yo...\n",
              "1      Positive  I am coming to the borders and I will kill you...\n",
              "2      Positive  im getting on borderlands and i will kill you ...\n",
              "3      Positive  im coming on borderlands and i will murder you...\n",
              "4      Positive  im getting on borderlands 2 and i will murder ...\n",
              "...         ...                                                ...\n",
              "74677  Positive  Just realized that the Windows partition of my...\n",
              "74678  Positive  Just realized that my Mac window partition is ...\n",
              "74679  Positive  Just realized the windows partition of my Mac ...\n",
              "74680  Positive  Just realized between the windows partition of...\n",
              "74681  Positive  Just like the windows partition of my Mac is l...\n",
              "\n",
              "[74682 rows x 2 columns]"
            ],
            "text/html": [
              "\n",
              "  <div id=\"df-a546ea73-c63e-4bde-8cf4-71f70fd22441\">\n",
              "    <div class=\"colab-df-container\">\n",
              "      <div>\n",
              "<style scoped>\n",
              "    .dataframe tbody tr th:only-of-type {\n",
              "        vertical-align: middle;\n",
              "    }\n",
              "\n",
              "    .dataframe tbody tr th {\n",
              "        vertical-align: top;\n",
              "    }\n",
              "\n",
              "    .dataframe thead th {\n",
              "        text-align: right;\n",
              "    }\n",
              "</style>\n",
              "<table border=\"1\" class=\"dataframe\">\n",
              "  <thead>\n",
              "    <tr style=\"text-align: right;\">\n",
              "      <th></th>\n",
              "      <th>sentiment</th>\n",
              "      <th>tweet_content</th>\n",
              "    </tr>\n",
              "  </thead>\n",
              "  <tbody>\n",
              "    <tr>\n",
              "      <th>0</th>\n",
              "      <td>Positive</td>\n",
              "      <td>im getting on borderlands and i will murder yo...</td>\n",
              "    </tr>\n",
              "    <tr>\n",
              "      <th>1</th>\n",
              "      <td>Positive</td>\n",
              "      <td>I am coming to the borders and I will kill you...</td>\n",
              "    </tr>\n",
              "    <tr>\n",
              "      <th>2</th>\n",
              "      <td>Positive</td>\n",
              "      <td>im getting on borderlands and i will kill you ...</td>\n",
              "    </tr>\n",
              "    <tr>\n",
              "      <th>3</th>\n",
              "      <td>Positive</td>\n",
              "      <td>im coming on borderlands and i will murder you...</td>\n",
              "    </tr>\n",
              "    <tr>\n",
              "      <th>4</th>\n",
              "      <td>Positive</td>\n",
              "      <td>im getting on borderlands 2 and i will murder ...</td>\n",
              "    </tr>\n",
              "    <tr>\n",
              "      <th>...</th>\n",
              "      <td>...</td>\n",
              "      <td>...</td>\n",
              "    </tr>\n",
              "    <tr>\n",
              "      <th>74677</th>\n",
              "      <td>Positive</td>\n",
              "      <td>Just realized that the Windows partition of my...</td>\n",
              "    </tr>\n",
              "    <tr>\n",
              "      <th>74678</th>\n",
              "      <td>Positive</td>\n",
              "      <td>Just realized that my Mac window partition is ...</td>\n",
              "    </tr>\n",
              "    <tr>\n",
              "      <th>74679</th>\n",
              "      <td>Positive</td>\n",
              "      <td>Just realized the windows partition of my Mac ...</td>\n",
              "    </tr>\n",
              "    <tr>\n",
              "      <th>74680</th>\n",
              "      <td>Positive</td>\n",
              "      <td>Just realized between the windows partition of...</td>\n",
              "    </tr>\n",
              "    <tr>\n",
              "      <th>74681</th>\n",
              "      <td>Positive</td>\n",
              "      <td>Just like the windows partition of my Mac is l...</td>\n",
              "    </tr>\n",
              "  </tbody>\n",
              "</table>\n",
              "<p>74682 rows × 2 columns</p>\n",
              "</div>\n",
              "      <button class=\"colab-df-convert\" onclick=\"convertToInteractive('df-a546ea73-c63e-4bde-8cf4-71f70fd22441')\"\n",
              "              title=\"Convert this dataframe to an interactive table.\"\n",
              "              style=\"display:none;\">\n",
              "        \n",
              "  <svg xmlns=\"http://www.w3.org/2000/svg\" height=\"24px\"viewBox=\"0 0 24 24\"\n",
              "       width=\"24px\">\n",
              "    <path d=\"M0 0h24v24H0V0z\" fill=\"none\"/>\n",
              "    <path d=\"M18.56 5.44l.94 2.06.94-2.06 2.06-.94-2.06-.94-.94-2.06-.94 2.06-2.06.94zm-11 1L8.5 8.5l.94-2.06 2.06-.94-2.06-.94L8.5 2.5l-.94 2.06-2.06.94zm10 10l.94 2.06.94-2.06 2.06-.94-2.06-.94-.94-2.06-.94 2.06-2.06.94z\"/><path d=\"M17.41 7.96l-1.37-1.37c-.4-.4-.92-.59-1.43-.59-.52 0-1.04.2-1.43.59L10.3 9.45l-7.72 7.72c-.78.78-.78 2.05 0 2.83L4 21.41c.39.39.9.59 1.41.59.51 0 1.02-.2 1.41-.59l7.78-7.78 2.81-2.81c.8-.78.8-2.07 0-2.86zM5.41 20L4 18.59l7.72-7.72 1.47 1.35L5.41 20z\"/>\n",
              "  </svg>\n",
              "      </button>\n",
              "      \n",
              "  <style>\n",
              "    .colab-df-container {\n",
              "      display:flex;\n",
              "      flex-wrap:wrap;\n",
              "      gap: 12px;\n",
              "    }\n",
              "\n",
              "    .colab-df-convert {\n",
              "      background-color: #E8F0FE;\n",
              "      border: none;\n",
              "      border-radius: 50%;\n",
              "      cursor: pointer;\n",
              "      display: none;\n",
              "      fill: #1967D2;\n",
              "      height: 32px;\n",
              "      padding: 0 0 0 0;\n",
              "      width: 32px;\n",
              "    }\n",
              "\n",
              "    .colab-df-convert:hover {\n",
              "      background-color: #E2EBFA;\n",
              "      box-shadow: 0px 1px 2px rgba(60, 64, 67, 0.3), 0px 1px 3px 1px rgba(60, 64, 67, 0.15);\n",
              "      fill: #174EA6;\n",
              "    }\n",
              "\n",
              "    [theme=dark] .colab-df-convert {\n",
              "      background-color: #3B4455;\n",
              "      fill: #D2E3FC;\n",
              "    }\n",
              "\n",
              "    [theme=dark] .colab-df-convert:hover {\n",
              "      background-color: #434B5C;\n",
              "      box-shadow: 0px 1px 3px 1px rgba(0, 0, 0, 0.15);\n",
              "      filter: drop-shadow(0px 1px 2px rgba(0, 0, 0, 0.3));\n",
              "      fill: #FFFFFF;\n",
              "    }\n",
              "  </style>\n",
              "\n",
              "      <script>\n",
              "        const buttonEl =\n",
              "          document.querySelector('#df-a546ea73-c63e-4bde-8cf4-71f70fd22441 button.colab-df-convert');\n",
              "        buttonEl.style.display =\n",
              "          google.colab.kernel.accessAllowed ? 'block' : 'none';\n",
              "\n",
              "        async function convertToInteractive(key) {\n",
              "          const element = document.querySelector('#df-a546ea73-c63e-4bde-8cf4-71f70fd22441');\n",
              "          const dataTable =\n",
              "            await google.colab.kernel.invokeFunction('convertToInteractive',\n",
              "                                                     [key], {});\n",
              "          if (!dataTable) return;\n",
              "\n",
              "          const docLinkHtml = 'Like what you see? Visit the ' +\n",
              "            '<a target=\"_blank\" href=https://colab.research.google.com/notebooks/data_table.ipynb>data table notebook</a>'\n",
              "            + ' to learn more about interactive tables.';\n",
              "          element.innerHTML = '';\n",
              "          dataTable['output_type'] = 'display_data';\n",
              "          await google.colab.output.renderOutput(dataTable, element);\n",
              "          const docLink = document.createElement('div');\n",
              "          docLink.innerHTML = docLinkHtml;\n",
              "          element.appendChild(docLink);\n",
              "        }\n",
              "      </script>\n",
              "    </div>\n",
              "  </div>\n",
              "  "
            ]
          },
          "metadata": {}
        },
        {
          "output_type": "stream",
          "name": "stdout",
          "text": [
            "data dtypes:  sentiment        object\n",
            "tweet_content    object\n",
            "dtype: object\n",
            "shape rows column:  (74682, 2)\n",
            "head :  <bound method NDFrame.head of       sentiment                                      tweet_content\n",
            "0      Positive  im getting on borderlands and i will murder yo...\n",
            "1      Positive  I am coming to the borders and I will kill you...\n",
            "2      Positive  im getting on borderlands and i will kill you ...\n",
            "3      Positive  im coming on borderlands and i will murder you...\n",
            "4      Positive  im getting on borderlands 2 and i will murder ...\n",
            "...         ...                                                ...\n",
            "74677  Positive  Just realized that the Windows partition of my...\n",
            "74678  Positive  Just realized that my Mac window partition is ...\n",
            "74679  Positive  Just realized the windows partition of my Mac ...\n",
            "74680  Positive  Just realized between the windows partition of...\n",
            "74681  Positive  Just like the windows partition of my Mac is l...\n",
            "\n",
            "[74682 rows x 2 columns]>\n",
            "tail:  <bound method NDFrame.tail of       sentiment                                      tweet_content\n",
            "0      Positive  im getting on borderlands and i will murder yo...\n",
            "1      Positive  I am coming to the borders and I will kill you...\n",
            "2      Positive  im getting on borderlands and i will kill you ...\n",
            "3      Positive  im coming on borderlands and i will murder you...\n",
            "4      Positive  im getting on borderlands 2 and i will murder ...\n",
            "...         ...                                                ...\n",
            "74677  Positive  Just realized that the Windows partition of my...\n",
            "74678  Positive  Just realized that my Mac window partition is ...\n",
            "74679  Positive  Just realized the windows partition of my Mac ...\n",
            "74680  Positive  Just realized between the windows partition of...\n",
            "74681  Positive  Just like the windows partition of my Mac is l...\n",
            "\n",
            "[74682 rows x 2 columns]>\n",
            "sentiment        0\n",
            "tweet_content    0\n",
            "dtype: int64\n",
            "Index(['sentiment', 'tweet_content'], dtype='object')\n"
          ]
        }
      ]
    },
    {
      "cell_type": "markdown",
      "source": [
        "# Graph Visualization"
      ],
      "metadata": {
        "id": "T2t64bPmACSn"
      }
    },
    {
      "cell_type": "code",
      "source": [
        "import matplotlib.pyplot as plt\n",
        "sb.catplot(x=\"sentiment\", kind=\"count\", data=data)\n",
        "plt.xlabel('Sentiment')\n",
        "plt.ylabel('Count')\n",
        "plt.title('Distribution of Twitter Sentiment')\n",
        "plt.show()\n"
      ],
      "metadata": {
        "colab": {
          "base_uri": "https://localhost:8080/",
          "height": 529
        },
        "id": "sO2barKOAA13",
        "outputId": "7cf500af-84e5-4dda-f3da-8c7f4d20a937"
      },
      "execution_count": null,
      "outputs": [
        {
          "output_type": "display_data",
          "data": {
            "text/plain": [
              "<Figure size 500x500 with 1 Axes>"
            ],
            "image/png": "[encoded data removed]"
          },
          "metadata": {}
        }
      ]
    },
    {
      "cell_type": "markdown",
      "source": [
        "# Sequential Model"
      ],
      "metadata": {
        "id": "fWVS18xYSABh"
      }
    },
    {
      "cell_type": "markdown",
      "source": [
        "Divide and Train sets"
      ],
      "metadata": {
        "id": "9TacD9dIICKL"
      }
    },
    {
      "cell_type": "code",
      "source": [
        "#set seed for reproducibility\n",
        "np.random.seed(1234)\n",
        "i = np.random.rand(len(data)) < 0.8\n",
        "train = data[i]\n",
        "test = data[~i]\n",
        "print(\"train data size: \", train.shape)\n",
        "print(\"test data size: \", test.shape)"
      ],
      "metadata": {
        "colab": {
          "base_uri": "https://localhost:8080/"
        },
        "id": "Tif8M_9MICm-",
        "outputId": "ca9fa0bb-a453-4eb7-8663-7e903040da7d"
      },
      "execution_count": null,
      "outputs": [
        {
          "output_type": "stream",
          "name": "stdout",
          "text": [
            "train data size:  (59733, 2)\n",
            "test data size:  (14949, 2)\n"
          ]
        }
      ]
    },
    {
      "cell_type": "code",
      "source": [
        "# x and y\n",
        "\n",
        "num_labels = 2\n",
        "vocab_size = 10000\n",
        "batch_size = 100\n",
        "\n",
        "# fit the tokenizer on the training data\n",
        "tokenizer = Tokenizer(num_words=vocab_size)\n",
        "tokenizer.fit_on_texts(train.tweet_content)\n",
        "\n",
        "x_train = tokenizer.texts_to_matrix(train.tweet_content, mode='tfidf')\n",
        "x_test = tokenizer.texts_to_matrix(test.tweet_content, mode='tfidf')\n",
        "\n",
        "encoder = LabelEncoder()\n",
        "encoder.fit(train.sentiment)\n",
        "y_train = encoder.transform(train.sentiment)\n",
        "y_test = encoder.transform(test.sentiment)\n",
        "\n",
        "# check shape\n",
        "print(\"train shapes:\", x_train.shape, y_train.shape)\n",
        "print(\"test shapes:\", x_test.shape, y_test.shape)\n",
        "print(\"test first five labels:\", y_test[:5])"
      ],
      "metadata": {
        "colab": {
          "base_uri": "https://localhost:8080/"
        },
        "id": "MrEld8FVJJEb",
        "outputId": "6e21d1ad-c19a-46ae-d0ad-a50b2e512d23"
      },
      "execution_count": null,
      "outputs": [
        {
          "output_type": "stream",
          "name": "stdout",
          "text": [
            "train shapes: (59733, 10000) (59733,)\n",
            "test shapes: (14949, 10000) (14949,)\n",
            "test first five labels: [3 3 3 3 1]\n"
          ]
        }
      ]
    },
    {
      "cell_type": "code",
      "source": [
        "# fit model \n",
        "\n",
        "model = models.Sequential()\n",
        "model.add(layers.Dense(32, input_dim=vocab_size, kernel_initializer='normal', activation='relu'))\n",
        "model.add(layers.Dense(1, kernel_initializer='normal', activation='sigmoid'))\n",
        " \n",
        "model.compile(loss='binary_crossentropy',\n",
        "              optimizer='adam',\n",
        "              metrics=['accuracy'])\n",
        " \n",
        "history = model.fit(x_train, y_train,\n",
        "                    batch_size=batch_size,\n",
        "                    epochs=30,\n",
        "                    verbose=1,\n",
        "                    validation_split=0.1)"
      ],
      "metadata": {
        "colab": {
          "base_uri": "https://localhost:8080/"
        },
        "id": "6JP2D0SKR9px",
        "outputId": "a7a2b76a-93b8-4e48-835f-9ca59fb014fb"
      },
      "execution_count": null,
      "outputs": [
        {
          "output_type": "stream",
          "name": "stdout",
          "text": [
            "Epoch 1/30\n",
            "538/538 [==============================] - 8s 14ms/step - loss: -109.3246 - accuracy: 0.3065 - val_loss: -449.5832 - val_accuracy: 0.2680\n",
            "Epoch 2/30\n",
            "538/538 [==============================] - 6s 11ms/step - loss: -876.6799 - accuracy: 0.3082 - val_loss: -1886.0970 - val_accuracy: 0.2680\n",
            "Epoch 3/30\n",
            "538/538 [==============================] - 7s 12ms/step - loss: -2355.4119 - accuracy: 0.3083 - val_loss: -4105.3730 - val_accuracy: 0.2680\n",
            "Epoch 4/30\n",
            "538/538 [==============================] - 6s 11ms/step - loss: -4407.6631 - accuracy: 0.3083 - val_loss: -6977.9624 - val_accuracy: 0.2680\n",
            "Epoch 5/30\n",
            "538/538 [==============================] - 7s 13ms/step - loss: -6961.2695 - accuracy: 0.3083 - val_loss: -10438.0020 - val_accuracy: 0.2680\n",
            "Epoch 6/30\n",
            "538/538 [==============================] - 6s 11ms/step - loss: -9977.5928 - accuracy: 0.3084 - val_loss: -14451.6611 - val_accuracy: 0.2680\n",
            "Epoch 7/30\n",
            "538/538 [==============================] - 7s 13ms/step - loss: -13413.3643 - accuracy: 0.3083 - val_loss: -18959.2676 - val_accuracy: 0.2680\n",
            "Epoch 8/30\n",
            "538/538 [==============================] - 6s 11ms/step - loss: -17236.8574 - accuracy: 0.3083 - val_loss: -23941.7578 - val_accuracy: 0.2680\n",
            "Epoch 9/30\n",
            "538/538 [==============================] - 7s 12ms/step - loss: -21435.2891 - accuracy: 0.3084 - val_loss: -29377.4941 - val_accuracy: 0.2680\n",
            "Epoch 10/30\n",
            "538/538 [==============================] - 6s 11ms/step - loss: -26000.1484 - accuracy: 0.3084 - val_loss: -35261.9766 - val_accuracy: 0.2680\n",
            "Epoch 11/30\n",
            "538/538 [==============================] - 7s 13ms/step - loss: -30924.4277 - accuracy: 0.3084 - val_loss: -41599.2227 - val_accuracy: 0.2680\n",
            "Epoch 12/30\n",
            "538/538 [==============================] - 6s 11ms/step - loss: -36205.3086 - accuracy: 0.3084 - val_loss: -48359.4609 - val_accuracy: 0.2680\n",
            "Epoch 13/30\n",
            "538/538 [==============================] - 6s 12ms/step - loss: -41826.7266 - accuracy: 0.3083 - val_loss: -55545.1172 - val_accuracy: 0.2680\n",
            "Epoch 14/30\n",
            "538/538 [==============================] - 6s 11ms/step - loss: -47789.8047 - accuracy: 0.3084 - val_loss: -63155.8125 - val_accuracy: 0.2680\n",
            "Epoch 15/30\n",
            "538/538 [==============================] - 6s 12ms/step - loss: -54094.8125 - accuracy: 0.3084 - val_loss: -71174.1641 - val_accuracy: 0.2680\n",
            "Epoch 16/30\n",
            "538/538 [==============================] - 6s 12ms/step - loss: -60740.8711 - accuracy: 0.3084 - val_loss: -79627.2891 - val_accuracy: 0.2680\n",
            "Epoch 17/30\n",
            "538/538 [==============================] - 6s 12ms/step - loss: -67731.2344 - accuracy: 0.3084 - val_loss: -88518.8281 - val_accuracy: 0.2680\n",
            "Epoch 18/30\n",
            "538/538 [==============================] - 6s 12ms/step - loss: -75061.1406 - accuracy: 0.3084 - val_loss: -97813.7344 - val_accuracy: 0.2680\n",
            "Epoch 19/30\n",
            "538/538 [==============================] - 6s 12ms/step - loss: -82719.4453 - accuracy: 0.3084 - val_loss: -107522.8047 - val_accuracy: 0.2680\n",
            "Epoch 20/30\n",
            "538/538 [==============================] - 6s 12ms/step - loss: -90723.1953 - accuracy: 0.3084 - val_loss: -117653.9297 - val_accuracy: 0.2680\n",
            "Epoch 21/30\n",
            "538/538 [==============================] - 6s 11ms/step - loss: -99049.9219 - accuracy: 0.3084 - val_loss: -128173.4453 - val_accuracy: 0.2680\n",
            "Epoch 22/30\n",
            "538/538 [==============================] - 7s 12ms/step - loss: -107710.2500 - accuracy: 0.3084 - val_loss: -139118.8750 - val_accuracy: 0.2680\n",
            "Epoch 23/30\n",
            "538/538 [==============================] - 6s 11ms/step - loss: -116709.6406 - accuracy: 0.3084 - val_loss: -150480.5312 - val_accuracy: 0.2680\n",
            "Epoch 24/30\n",
            "538/538 [==============================] - 7s 13ms/step - loss: -126044.0391 - accuracy: 0.3084 - val_loss: -162282.6250 - val_accuracy: 0.2680\n",
            "Epoch 25/30\n",
            "538/538 [==============================] - 6s 11ms/step - loss: -135717.3750 - accuracy: 0.3084 - val_loss: -174498.9062 - val_accuracy: 0.2680\n",
            "Epoch 26/30\n",
            "538/538 [==============================] - 7s 13ms/step - loss: -145708.8906 - accuracy: 0.3083 - val_loss: -187067.1406 - val_accuracy: 0.2680\n",
            "Epoch 27/30\n",
            "538/538 [==============================] - 6s 11ms/step - loss: -156031.1719 - accuracy: 0.3084 - val_loss: -200087.9062 - val_accuracy: 0.2680\n",
            "Epoch 28/30\n",
            "538/538 [==============================] - 7s 12ms/step - loss: -166673.9062 - accuracy: 0.3084 - val_loss: -213470.8125 - val_accuracy: 0.2680\n",
            "Epoch 29/30\n",
            "538/538 [==============================] - 6s 11ms/step - loss: -177626.9844 - accuracy: 0.3084 - val_loss: -227287.2188 - val_accuracy: 0.2680\n",
            "Epoch 30/30\n",
            "538/538 [==============================] - 7s 12ms/step - loss: -188930.3750 - accuracy: 0.3084 - val_loss: -241496.3125 - val_accuracy: 0.2680\n"
          ]
        }
      ]
    },
    {
      "cell_type": "code",
      "source": [
        "# evaluate\n",
        "\n",
        "score = model.evaluate(x_test, y_test, batch_size=batch_size, verbose=1)\n",
        "print('Accuracy: ', score[1])\n",
        "\n",
        "print(score)"
      ],
      "metadata": {
        "id": "w_cchHHXVLBD",
        "colab": {
          "base_uri": "https://localhost:8080/"
        },
        "outputId": "45a3fbb1-2499-4c79-fe99-0fd9bf6a0344"
      },
      "execution_count": null,
      "outputs": [
        {
          "output_type": "stream",
          "name": "stdout",
          "text": [
            "150/150 [==============================] - 1s 4ms/step - loss: -193450.0000 - accuracy: 0.3028\n",
            "Accuracy:  0.3028296232223511\n",
            "[-193450.0, 0.3028296232223511]\n"
          ]
        }
      ]
    },
    {
      "cell_type": "code",
      "source": [
        "# get predictions so we can calculate more metrics\n",
        "pred = model.predict(x_test)\n",
        "pred_labels = [1 if p>0.5 else 0 for p in pred]"
      ],
      "metadata": {
        "colab": {
          "base_uri": "https://localhost:8080/"
        },
        "id": "lVkgFwNRd0z0",
        "outputId": "2b30a543-2d69-4f15-ab0d-9ae26f449aeb"
      },
      "execution_count": null,
      "outputs": [
        {
          "output_type": "stream",
          "name": "stdout",
          "text": [
            "468/468 [==============================] - 1s 2ms/step\n"
          ]
        }
      ]
    },
    {
      "cell_type": "code",
      "source": [
        "pred[:10]"
      ],
      "metadata": {
        "colab": {
          "base_uri": "https://localhost:8080/"
        },
        "id": "5xsnz8L3j0vi",
        "outputId": "48ccab4c-39fd-4ccb-c92f-3d64233d2901"
      },
      "execution_count": null,
      "outputs": [
        {
          "output_type": "execute_result",
          "data": {
            "text/plain": [
              "array([[1.],\n",
              "       [1.],\n",
              "       [1.],\n",
              "       [1.],\n",
              "       [1.],\n",
              "       [1.],\n",
              "       [1.],\n",
              "       [1.],\n",
              "       [1.],\n",
              "       [1.]], dtype=float32)"
            ]
          },
          "metadata": {},
          "execution_count": 20
        }
      ]
    },
    {
      "cell_type": "code",
      "source": [
        "pred_labels[:10]"
      ],
      "metadata": {
        "colab": {
          "base_uri": "https://localhost:8080/"
        },
        "id": "zAOX_jVtj3hz",
        "outputId": "f557a67f-02b8-40e1-decf-c8ddd3d1c617"
      },
      "execution_count": null,
      "outputs": [
        {
          "output_type": "execute_result",
          "data": {
            "text/plain": [
              "[1, 1, 1, 1, 1, 1, 1, 1, 1, 1]"
            ]
          },
          "metadata": {},
          "execution_count": 21
        }
      ]
    },
    {
      "cell_type": "code",
      "source": [
        "from sklearn.metrics import accuracy_score, precision_score, recall_score, f1_score\n",
        "print('accuracy score: ', accuracy_score(y_test, pred_labels))\n",
        "print('precision score: ', precision_score(y_test, pred_labels, average='weighted'))\n",
        "print('recall score: ', recall_score(y_test, pred_labels, average='weighted'))\n",
        "print('f1 score: ', f1_score(y_test, pred_labels, average='weighted'))"
      ],
      "metadata": {
        "colab": {
          "base_uri": "https://localhost:8080/"
        },
        "id": "Cs-RJh8Rj588",
        "outputId": "4026245a-c236-4528-e2a2-0e5076af93e6"
      },
      "execution_count": null,
      "outputs": [
        {
          "output_type": "stream",
          "name": "stdout",
          "text": [
            "accuracy score:  0.3028296207104154\n",
            "precision score:  0.26307169291211835\n",
            "recall score:  0.3028296207104154\n",
            "f1 score:  0.14376181790687412\n"
          ]
        },
        {
          "output_type": "stream",
          "name": "stderr",
          "text": [
            "/usr/local/lib/python3.9/dist-packages/sklearn/metrics/_classification.py:1344: UndefinedMetricWarning: Precision is ill-defined and being set to 0.0 in labels with no predicted samples. Use `zero_division` parameter to control this behavior.\n",
            "  _warn_prf(average, modifier, msg_start, len(result))\n"
          ]
        }
      ]
    },
    {
      "cell_type": "markdown",
      "source": [
        "# RNN"
      ],
      "metadata": {
        "id": "OMYWZMvvkbS7"
      }
    },
    {
      "cell_type": "code",
      "source": [
        "max_features = 10000\n",
        "maxlen = 500\n",
        "batch_size = 32\n",
        "# pad the data to maxlen\n",
        "train_data = preprocessing.sequence.pad_sequences(x_train, maxlen=maxlen)\n",
        "test_data = preprocessing.sequence.pad_sequences(x_test, maxlen=maxlen)"
      ],
      "metadata": {
        "id": "_5VBwBP6kcn3"
      },
      "execution_count": null,
      "outputs": []
    },
    {
      "cell_type": "code",
      "source": [
        "model.summary()\n"
      ],
      "metadata": {
        "colab": {
          "base_uri": "https://localhost:8080/"
        },
        "id": "UrUP2px4rwxv",
        "outputId": "fa12b010-848d-4841-8001-dca8e8bff9f4"
      },
      "execution_count": null,
      "outputs": [
        {
          "output_type": "stream",
          "name": "stdout",
          "text": [
            "Model: \"sequential_4\"\n",
            "_________________________________________________________________\n",
            " Layer (type)                Output Shape              Param #   \n",
            "=================================================================\n",
            " dense (Dense)               (None, 32)                320032    \n",
            "                                                                 \n",
            " dense_1 (Dense)             (None, 1)                 33        \n",
            "                                                                 \n",
            "=================================================================\n",
            "Total params: 320,065\n",
            "Trainable params: 320,065\n",
            "Non-trainable params: 0\n",
            "_________________________________________________________________\n"
          ]
        }
      ]
    },
    {
      "cell_type": "code",
      "source": [
        "from keras import preprocessing\n",
        "from keras.models import Sequential\n",
        "from keras.layers import Dense, Flatten, Embedding\n",
        "# Define the model\n",
        "model = Sequential()\n",
        "model.add(Embedding(max_features, 32, input_length=maxlen))\n",
        "model.add(Flatten())\n",
        "model.add(Dense(32, activation='relu'))\n",
        "model.add(Dense(1, activation='sigmoid'))"
      ],
      "metadata": {
        "id": "GnsSl2AmbWwF"
      },
      "execution_count": null,
      "outputs": []
    },
    {
      "cell_type": "code",
      "source": [
        "\n",
        "\n",
        "# compile\n",
        "model.compile(optimizer='rmsprop',\n",
        "              loss='binary_crossentropy',\n",
        "              metrics=['accuracy'])\n",
        "\n"
      ],
      "metadata": {
        "id": "m4_kgw4jrza0"
      },
      "execution_count": null,
      "outputs": []
    },
    {
      "cell_type": "code",
      "source": [
        "# train\n",
        "\n",
        "history = model.fit(train_data,\n",
        "                    y_train,\n",
        "                    epochs=10,\n",
        "                    batch_size=128,\n",
        "                    validation_split=0.2)"
      ],
      "metadata": {
        "colab": {
          "base_uri": "https://localhost:8080/"
        },
        "id": "cp6UkHAEr2er",
        "outputId": "d2c71ab7-06ad-4e87-fbf9-ae47b2d25d72"
      },
      "execution_count": null,
      "outputs": [
        {
          "output_type": "stream",
          "name": "stdout",
          "text": [
            "Epoch 1/10\n",
            "374/374 [==============================] - 12s 29ms/step - loss: -2078.7622 - accuracy: 0.2895 - val_loss: -7387.2837 - val_accuracy: 0.3528\n",
            "Epoch 2/10\n",
            "374/374 [==============================] - 11s 30ms/step - loss: -21262.9746 - accuracy: 0.2895 - val_loss: -44272.4336 - val_accuracy: 0.3528\n",
            "Epoch 3/10\n",
            "374/374 [==============================] - 11s 30ms/step - loss: -79921.0703 - accuracy: 0.2895 - val_loss: -133940.6406 - val_accuracy: 0.3528\n",
            "Epoch 4/10\n",
            "374/374 [==============================] - 11s 30ms/step - loss: -199047.2344 - accuracy: 0.2895 - val_loss: -298529.0312 - val_accuracy: 0.3528\n",
            "Epoch 5/10\n",
            "374/374 [==============================] - 14s 37ms/step - loss: -400794.6250 - accuracy: 0.2895 - val_loss: -560864.8750 - val_accuracy: 0.3528\n",
            "Epoch 6/10\n",
            "374/374 [==============================] - 11s 30ms/step - loss: -706194.1875 - accuracy: 0.2895 - val_loss: -943666.4375 - val_accuracy: 0.3528\n",
            "Epoch 7/10\n",
            "374/374 [==============================] - 11s 30ms/step - loss: -1137221.8750 - accuracy: 0.2895 - val_loss: -1467757.5000 - val_accuracy: 0.3528\n",
            "Epoch 8/10\n",
            "374/374 [==============================] - 11s 30ms/step - loss: -1711982.0000 - accuracy: 0.2895 - val_loss: -2158455.5000 - val_accuracy: 0.3528\n",
            "Epoch 9/10\n",
            "374/374 [==============================] - 11s 28ms/step - loss: -2455374.2500 - accuracy: 0.2895 - val_loss: -3033894.5000 - val_accuracy: 0.3528\n",
            "Epoch 10/10\n",
            "374/374 [==============================] - 12s 31ms/step - loss: -3389050.5000 - accuracy: 0.2895 - val_loss: -4119448.0000 - val_accuracy: 0.3528\n"
          ]
        }
      ]
    },
    {
      "cell_type": "code",
      "source": [
        "from sklearn.metrics import classification_report\n",
        "\n",
        "pred = model.predict(test_data)\n",
        "pred = [1.0 if p>= 0.5 else 0.0 for p in pred]\n",
        "print(classification_report(y_test, pred))"
      ],
      "metadata": {
        "colab": {
          "base_uri": "https://localhost:8080/"
        },
        "id": "RtgTuCAcucDG",
        "outputId": "5829e4a3-3cc2-4428-caaf-13478a6acfc3"
      },
      "execution_count": null,
      "outputs": [
        {
          "output_type": "stream",
          "name": "stdout",
          "text": [
            "468/468 [==============================] - 2s 3ms/step\n",
            "              precision    recall  f1-score   support\n",
            "\n",
            "           0       0.00      0.00      0.00      2653\n",
            "           1       0.30      1.00      0.46      4493\n",
            "           2       0.00      0.00      0.00      3626\n",
            "           3       0.00      0.00      0.00      4177\n",
            "\n",
            "    accuracy                           0.30     14949\n",
            "   macro avg       0.08      0.25      0.12     14949\n",
            "weighted avg       0.09      0.30      0.14     14949\n",
            "\n"
          ]
        },
        {
          "output_type": "stream",
          "name": "stderr",
          "text": [
            "/usr/local/lib/python3.9/dist-packages/sklearn/metrics/_classification.py:1344: UndefinedMetricWarning: Precision and F-score are ill-defined and being set to 0.0 in labels with no predicted samples. Use `zero_division` parameter to control this behavior.\n",
            "  _warn_prf(average, modifier, msg_start, len(result))\n",
            "/usr/local/lib/python3.9/dist-packages/sklearn/metrics/_classification.py:1344: UndefinedMetricWarning: Precision and F-score are ill-defined and being set to 0.0 in labels with no predicted samples. Use `zero_division` parameter to control this behavior.\n",
            "  _warn_prf(average, modifier, msg_start, len(result))\n",
            "/usr/local/lib/python3.9/dist-packages/sklearn/metrics/_classification.py:1344: UndefinedMetricWarning: Precision and F-score are ill-defined and being set to 0.0 in labels with no predicted samples. Use `zero_division` parameter to control this behavior.\n",
            "  _warn_prf(average, modifier, msg_start, len(result))\n"
          ]
        }
      ]
    },
    {
      "cell_type": "markdown",
      "source": [
        "# LTSM"
      ],
      "metadata": {
        "id": "mF-n_oBXu6uN"
      }
    },
    {
      "cell_type": "code",
      "source": [
        "# build a model with LSTM\n",
        "model = models.Sequential()\n",
        "model.add(layers.Embedding(max_features, 32))\n",
        "model.add(layers.LSTM(32))\n",
        "model.add(layers.Dense(1, activation='sigmoid'))\n",
        "\n",
        "\n",
        "\n",
        "model.summary()\n",
        "\n"
      ],
      "metadata": {
        "colab": {
          "base_uri": "https://localhost:8080/"
        },
        "id": "J0CCG4eqvujd",
        "outputId": "6a6b9aca-01bb-4320-8bac-e17e51819bac"
      },
      "execution_count": null,
      "outputs": [
        {
          "output_type": "stream",
          "name": "stdout",
          "text": [
            "Model: \"sequential_6\"\n",
            "_________________________________________________________________\n",
            " Layer (type)                Output Shape              Param #   \n",
            "=================================================================\n",
            " embedding_1 (Embedding)     (None, None, 32)          320000    \n",
            "                                                                 \n",
            " lstm (LSTM)                 (None, 32)                8320      \n",
            "                                                                 \n",
            " dense_4 (Dense)             (None, 1)                 33        \n",
            "                                                                 \n",
            "=================================================================\n",
            "Total params: 328,353\n",
            "Trainable params: 328,353\n",
            "Non-trainable params: 0\n",
            "_________________________________________________________________\n"
          ]
        }
      ]
    },
    {
      "cell_type": "code",
      "source": [
        "\n",
        "\n",
        "# compile\n",
        "model.compile(optimizer='rmsprop',\n",
        "              loss='binary_crossentropy',\n",
        "              metrics=['accuracy'])\n",
        "\n",
        "# train\n",
        "\n",
        "history = model.fit(train_data,\n",
        "                    y_train,\n",
        "                    epochs=10,\n",
        "                    batch_size=128,\n",
        "                    validation_split=0.2)"
      ],
      "metadata": {
        "colab": {
          "base_uri": "https://localhost:8080/"
        },
        "id": "06htHM-Bv1s4",
        "outputId": "6852f44d-ad3d-415f-f5fc-68606c17291b"
      },
      "execution_count": null,
      "outputs": [
        {
          "output_type": "stream",
          "name": "stdout",
          "text": [
            "Epoch 1/10\n",
            "374/374 [==============================] - 142s 374ms/step - loss: -7.8839 - accuracy: 0.2895 - val_loss: -12.5662 - val_accuracy: 0.3528\n",
            "Epoch 2/10\n",
            "374/374 [==============================] - 136s 362ms/step - loss: -15.7548 - accuracy: 0.2895 - val_loss: -20.5482 - val_accuracy: 0.3528\n",
            "Epoch 3/10\n",
            "374/374 [==============================] - 145s 388ms/step - loss: -23.3606 - accuracy: 0.2895 - val_loss: -28.5352 - val_accuracy: 0.3528\n",
            "Epoch 4/10\n",
            "374/374 [==============================] - 135s 362ms/step - loss: -30.9649 - accuracy: 0.2895 - val_loss: -36.5198 - val_accuracy: 0.3528\n",
            "Epoch 5/10\n",
            "374/374 [==============================] - 139s 371ms/step - loss: -38.5526 - accuracy: 0.2895 - val_loss: -44.4865 - val_accuracy: 0.3528\n",
            "Epoch 6/10\n",
            "374/374 [==============================] - 135s 362ms/step - loss: -46.1822 - accuracy: 0.2895 - val_loss: -52.5017 - val_accuracy: 0.3528\n",
            "Epoch 7/10\n",
            "374/374 [==============================] - 134s 359ms/step - loss: -53.7950 - accuracy: 0.2895 - val_loss: -60.4914 - val_accuracy: 0.3528\n",
            "Epoch 8/10\n",
            "374/374 [==============================] - 136s 363ms/step - loss: -61.4076 - accuracy: 0.2895 - val_loss: -68.4705 - val_accuracy: 0.3528\n",
            "Epoch 9/10\n",
            "374/374 [==============================] - 138s 369ms/step - loss: -69.0481 - accuracy: 0.2895 - val_loss: -76.4726 - val_accuracy: 0.3528\n",
            "Epoch 10/10\n",
            "374/374 [==============================] - 135s 360ms/step - loss: -76.6617 - accuracy: 0.2895 - val_loss: -84.4653 - val_accuracy: 0.3528\n"
          ]
        }
      ]
    },
    {
      "cell_type": "code",
      "source": [
        "pred = model.predict(test_data)\n",
        "pred = [1.0 if p>= 0.5 else 0.0 for p in pred]\n",
        "print(classification_report(y_test, pred))"
      ],
      "metadata": {
        "colab": {
          "base_uri": "https://localhost:8080/"
        },
        "id": "io0pCYD-ySl_",
        "outputId": "6054889c-2867-438f-bec4-61817c48b78f"
      },
      "execution_count": null,
      "outputs": [
        {
          "output_type": "stream",
          "name": "stdout",
          "text": [
            "468/468 [==============================] - 23s 48ms/step\n",
            "              precision    recall  f1-score   support\n",
            "\n",
            "           0       0.00      0.00      0.00      2653\n",
            "           1       0.30      1.00      0.46      4493\n",
            "           2       0.00      0.00      0.00      3626\n",
            "           3       0.00      0.00      0.00      4177\n",
            "\n",
            "    accuracy                           0.30     14949\n",
            "   macro avg       0.08      0.25      0.12     14949\n",
            "weighted avg       0.09      0.30      0.14     14949\n",
            "\n"
          ]
        },
        {
          "output_type": "stream",
          "name": "stderr",
          "text": [
            "/usr/local/lib/python3.9/dist-packages/sklearn/metrics/_classification.py:1344: UndefinedMetricWarning: Precision and F-score are ill-defined and being set to 0.0 in labels with no predicted samples. Use `zero_division` parameter to control this behavior.\n",
            "  _warn_prf(average, modifier, msg_start, len(result))\n",
            "/usr/local/lib/python3.9/dist-packages/sklearn/metrics/_classification.py:1344: UndefinedMetricWarning: Precision and F-score are ill-defined and being set to 0.0 in labels with no predicted samples. Use `zero_division` parameter to control this behavior.\n",
            "  _warn_prf(average, modifier, msg_start, len(result))\n",
            "/usr/local/lib/python3.9/dist-packages/sklearn/metrics/_classification.py:1344: UndefinedMetricWarning: Precision and F-score are ill-defined and being set to 0.0 in labels with no predicted samples. Use `zero_division` parameter to control this behavior.\n",
            "  _warn_prf(average, modifier, msg_start, len(result))\n"
          ]
        }
      ]
    },
    {
      "cell_type": "markdown",
      "source": [
        "# LSTM - Attempt #2"
      ],
      "metadata": {
        "id": "gtKCDjYt6NDC"
      }
    },
    {
      "cell_type": "code",
      "source": [
        "# build a model with LSTM\n",
        "model = models.Sequential()\n",
        "model.add(layers.Embedding(max_features, 32))\n",
        "model.add(layers.LSTM(32))\n",
        "model.add(layers.Dense(1, activation='sigmoid'))\n",
        "\n",
        "\n",
        "\n",
        "model.summary()"
      ],
      "metadata": {
        "id": "kBEjIKtr6Own"
      },
      "execution_count": null,
      "outputs": []
    },
    {
      "cell_type": "code",
      "source": [
        "# compile\n",
        "model.compile(optimizer='rmsprop',\n",
        "              loss='binary_crossentropy',\n",
        "              metrics=['accuracy'])"
      ],
      "metadata": {
        "id": "XOa6bWRR6ia7"
      },
      "execution_count": null,
      "outputs": []
    },
    {
      "cell_type": "code",
      "source": [
        "# train\n",
        "\n",
        "history = model.fit(x_train,\n",
        "                    y_train,\n",
        "                    epochs=10,\n",
        "                    batch_size=128,\n",
        "                    validation_split=0.2)"
      ],
      "metadata": {
        "id": "CYdAklHg5c91"
      },
      "execution_count": null,
      "outputs": []
    },
    {
      "cell_type": "code",
      "source": [
        "pred = model.predict(x_test, y_test)\n",
        "pred = [1.0 if p>= 0.5 else 0.0 for p in pred]\n",
        "print(classification_report(y_train, pred))"
      ],
      "metadata": {
        "id": "1D_t5ZdT6p3Z"
      },
      "execution_count": null,
      "outputs": []
    },
    {
      "cell_type": "markdown",
      "source": [
        "# GRU"
      ],
      "metadata": {
        "id": "uq3FGAHO6u7X"
      }
    },
    {
      "cell_type": "code",
      "source": [
        "model = models.Sequential()\n",
        "model.add(layers.Embedding(max_features, 32))\n",
        "model.add(layers.GRU(32))\n",
        "model.add(layers.Dense(1, activation='sigmoid'))"
      ],
      "metadata": {
        "id": "gNybZ1BI63Vh"
      },
      "execution_count": null,
      "outputs": []
    },
    {
      "cell_type": "code",
      "source": [
        "# compile\n",
        "model.compile(optimizer='rmsprop',\n",
        "              loss='binary_crossentropy',\n",
        "              metrics=['accuracy'])"
      ],
      "metadata": {
        "id": "oLEn-EkL61M4"
      },
      "execution_count": null,
      "outputs": []
    },
    {
      "cell_type": "code",
      "source": [
        "# train\n",
        "\n",
        "history = model.fit(train_data,\n",
        "                    y_train,\n",
        "                    epochs=10,\n",
        "                    batch_size=128,\n",
        "                    validation_split=0.2)"
      ],
      "metadata": {
        "id": "kiA4nmxe65lz",
        "colab": {
          "base_uri": "https://localhost:8080/"
        },
        "outputId": "0ee0dd5e-f171-4de3-c3d2-fb10ab316e9c"
      },
      "execution_count": null,
      "outputs": [
        {
          "output_type": "stream",
          "name": "stdout",
          "text": [
            "Epoch 1/10\n",
            "374/374 [==============================] - 134s 350ms/step - loss: -7.8998 - accuracy: 0.2895 - val_loss: -12.7450 - val_accuracy: 0.3528\n",
            "Epoch 2/10\n",
            "374/374 [==============================] - 133s 356ms/step - loss: -15.9390 - accuracy: 0.2895 - val_loss: -20.7263 - val_accuracy: 0.3528\n",
            "Epoch 3/10\n",
            "374/374 [==============================] - 129s 344ms/step - loss: -23.5711 - accuracy: 0.2895 - val_loss: -28.7289 - val_accuracy: 0.3528\n",
            "Epoch 4/10\n",
            "374/374 [==============================] - 137s 366ms/step - loss: -31.1776 - accuracy: 0.2895 - val_loss: -36.7223 - val_accuracy: 0.3528\n",
            "Epoch 5/10\n",
            "374/374 [==============================] - 132s 354ms/step - loss: -38.7615 - accuracy: 0.2895 - val_loss: -44.7269 - val_accuracy: 0.3528\n",
            "Epoch 6/10\n",
            "374/374 [==============================] - 131s 351ms/step - loss: -46.3505 - accuracy: 0.2895 - val_loss: -52.7018 - val_accuracy: 0.3528\n",
            "Epoch 7/10\n",
            "374/374 [==============================] - 132s 354ms/step - loss: -54.0266 - accuracy: 0.2895 - val_loss: -60.6957 - val_accuracy: 0.3528\n",
            "Epoch 8/10\n",
            "374/374 [==============================] - 128s 342ms/step - loss: -61.6003 - accuracy: 0.2895 - val_loss: -68.6794 - val_accuracy: 0.3528\n",
            "Epoch 9/10\n",
            "374/374 [==============================] - 131s 351ms/step - loss: -69.2336 - accuracy: 0.2895 - val_loss: -76.6718 - val_accuracy: 0.3528\n",
            "Epoch 10/10\n",
            "374/374 [==============================] - 137s 367ms/step - loss: -76.8438 - accuracy: 0.2895 - val_loss: -84.6562 - val_accuracy: 0.3528\n"
          ]
        }
      ]
    },
    {
      "cell_type": "code",
      "source": [
        "pred = model.predict(test_data)\n",
        "pred = [1.0 if p>= 0.5 else 0.0 for p in pred]\n",
        "print(classification_report(y_test, pred))"
      ],
      "metadata": {
        "id": "Zape-E5466n7",
        "colab": {
          "base_uri": "https://localhost:8080/"
        },
        "outputId": "236bcb15-1471-4ae6-c1b1-84ce81e70ee3"
      },
      "execution_count": null,
      "outputs": [
        {
          "output_type": "stream",
          "name": "stdout",
          "text": [
            "468/468 [==============================] - 26s 54ms/step\n",
            "              precision    recall  f1-score   support\n",
            "\n",
            "           0       0.00      0.00      0.00      2653\n",
            "           1       0.30      1.00      0.46      4493\n",
            "           2       0.00      0.00      0.00      3626\n",
            "           3       0.00      0.00      0.00      4177\n",
            "\n",
            "    accuracy                           0.30     14949\n",
            "   macro avg       0.08      0.25      0.12     14949\n",
            "weighted avg       0.09      0.30      0.14     14949\n",
            "\n"
          ]
        },
        {
          "output_type": "stream",
          "name": "stderr",
          "text": [
            "/usr/local/lib/python3.9/dist-packages/sklearn/metrics/_classification.py:1344: UndefinedMetricWarning: Precision and F-score are ill-defined and being set to 0.0 in labels with no predicted samples. Use `zero_division` parameter to control this behavior.\n",
            "  _warn_prf(average, modifier, msg_start, len(result))\n",
            "/usr/local/lib/python3.9/dist-packages/sklearn/metrics/_classification.py:1344: UndefinedMetricWarning: Precision and F-score are ill-defined and being set to 0.0 in labels with no predicted samples. Use `zero_division` parameter to control this behavior.\n",
            "  _warn_prf(average, modifier, msg_start, len(result))\n",
            "/usr/local/lib/python3.9/dist-packages/sklearn/metrics/_classification.py:1344: UndefinedMetricWarning: Precision and F-score are ill-defined and being set to 0.0 in labels with no predicted samples. Use `zero_division` parameter to control this behavior.\n",
            "  _warn_prf(average, modifier, msg_start, len(result))\n"
          ]
        }
      ]
    },
    {
      "cell_type": "markdown",
      "source": [
        "# Analysis\n",
        "\n",
        "I've noticed that the accuracy when using different approaches the results where practicially the same when scoring the accurracy. I believe I need to experiemnt a lot more with the model. The sequential model did the best out of all of them, but the low accuracy may be due to the dataset"
      ],
      "metadata": {
        "id": "a0Mi41J-pdXS"
      }
    },
    {
      "cell_type": "code",
      "source": [],
      "metadata": {
        "id": "Ewt0h6BopevA"
      },
      "execution_count": null,
      "outputs": []
    }
  ]
}
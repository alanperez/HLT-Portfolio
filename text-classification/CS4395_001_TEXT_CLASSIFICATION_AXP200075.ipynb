{
  "nbformat": 4,
  "nbformat_minor": 0,
  "metadata": {
    "colab": {
      "provenance": [],
      "authorship_tag": "ABX9TyOg+jOt7GHqMxJSe6Y/qem+",
      "include_colab_link": true
    },
    "kernelspec": {
      "name": "python3",
      "display_name": "Python 3"
    },
    "language_info": {
      "name": "python"
    }
  },
  "cells": [
    {
      "cell_type": "markdown",
      "metadata": {
        "id": "view-in-github",
        "colab_type": "text"
      },
      "source": [
        "<a href=\"https://colab.research.google.com/github/alanperez/HLT-Portfolio/blob/main/text-classification/CS4395_001_TEXT_CLASSIFICATION_AXP200075.ipynb\" target=\"_parent\"><img src=\"https://colab.research.google.com/assets/colab-badge.svg\" alt=\"Open In Colab\"/></a>"
      ]
    },
    {
      "cell_type": "markdown",
      "source": [
        "**Alan Perez** |\n",
        "**AXP200075** |\n",
        "**CS 4395.001** |\n",
        "**Assignment: Text Classification**"
      ],
      "metadata": {
        "id": "taq7MXoWCtRx"
      }
    },
    {
      "cell_type": "markdown",
      "source": [
        "### **Text Classification**\n",
        "\n",
        "1.   Gain experience with Naïve Bayes, Logistic Regression, Neural Networks with sklearn using text data\n",
        "2.   Gain experience with text classification\n",
        "\n",
        "\n",
        "\n",
        "Dataset: https://www.kaggle.com/datasets/jp797498e/twitter-entity-sentiment-analysis\n"
      ],
      "metadata": {
        "id": "dupHeAMWFTpy"
      }
    },
    {
      "cell_type": "code",
      "source": [
        "import pandas as pd\n",
        "import matplotlib.pyplot as plt\n",
        "import seaborn as sb\n",
        "\n",
        "from sklearn.model_selection import train_test_split\n",
        "nltk.download('stopwords')"
      ],
      "metadata": {
        "id": "ZP4g8m9pCyux",
        "colab": {
          "base_uri": "https://localhost:8080/"
        },
        "outputId": "ddf1af88-1f8d-4c7b-8e3b-8ea5a51bcda2"
      },
      "execution_count": 120,
      "outputs": [
        {
          "output_type": "stream",
          "name": "stderr",
          "text": [
            "[nltk_data] Downloading package stopwords to /root/nltk_data...\n",
            "[nltk_data]   Package stopwords is already up-to-date!\n"
          ]
        },
        {
          "output_type": "execute_result",
          "data": {
            "text/plain": [
              "True"
            ]
          },
          "metadata": {},
          "execution_count": 120
        }
      ]
    },
    {
      "cell_type": "code",
      "source": [
        "\n",
        "#load data\n",
        "\n",
        "# target column 2 which is sentiment and 3 which is tweet content\n",
        "data = pd.read_csv('twitter.csv',usecols=[2,3], names=['sentiment', 'tweet_content'],encoding='latin-1')\n",
        "\n",
        "# check for NaN values\n",
        "print(data.isna().sum())\n",
        "# check if there  are unexpected types\n",
        "\n",
        "print(data.applymap(type))\n",
        "# replace NaN with empty str\n",
        "data.fillna('', inplace=True)\n",
        "\n",
        "# convert columns to string type\n",
        "data['sentiment'] = data['sentiment'].astype(str)\n",
        "data['tweet_content'] = data['tweet_content'].astype(str)\n",
        "data = data.astype(str)\n",
        "display(data)\n",
        "\n",
        "# check the data types of each column\n",
        "print('data dtypes: ', data.dtypes)\n",
        "\n",
        "print('shape rows column: ', data.shape)\n",
        "print('head : ', data.head)\n",
        "print('tail: ', data.tail)\n",
        "\n",
        "# check for NaN values\n",
        "print(data.isna().sum())\n",
        "print(data.columns)"
      ],
      "metadata": {
        "colab": {
          "base_uri": "https://localhost:8080/",
          "height": 840
        },
        "id": "LLBuOVf_DjOa",
        "outputId": "a79be49d-c769-454f-d4d7-a911a980d2a5"
      },
      "execution_count": 121,
      "outputs": [
        {
          "output_type": "stream",
          "name": "stdout",
          "text": [
            "sentiment          0\n",
            "tweet_content    686\n",
            "dtype: int64\n",
            "           sentiment  tweet_content\n",
            "0      <class 'str'>  <class 'str'>\n",
            "1      <class 'str'>  <class 'str'>\n",
            "2      <class 'str'>  <class 'str'>\n",
            "3      <class 'str'>  <class 'str'>\n",
            "4      <class 'str'>  <class 'str'>\n",
            "...              ...            ...\n",
            "74677  <class 'str'>  <class 'str'>\n",
            "74678  <class 'str'>  <class 'str'>\n",
            "74679  <class 'str'>  <class 'str'>\n",
            "74680  <class 'str'>  <class 'str'>\n",
            "74681  <class 'str'>  <class 'str'>\n",
            "\n",
            "[74682 rows x 2 columns]\n"
          ]
        },
        {
          "output_type": "display_data",
          "data": {
            "text/plain": [
              "      sentiment                                      tweet_content\n",
              "0      Positive  im getting on borderlands and i will murder yo...\n",
              "1      Positive  I am coming to the borders and I will kill you...\n",
              "2      Positive  im getting on borderlands and i will kill you ...\n",
              "3      Positive  im coming on borderlands and i will murder you...\n",
              "4      Positive  im getting on borderlands 2 and i will murder ...\n",
              "...         ...                                                ...\n",
              "74677  Positive  Just realized that the Windows partition of my...\n",
              "74678  Positive  Just realized that my Mac window partition is ...\n",
              "74679  Positive  Just realized the windows partition of my Mac ...\n",
              "74680  Positive  Just realized between the windows partition of...\n",
              "74681  Positive  Just like the windows partition of my Mac is l...\n",
              "\n",
              "[74682 rows x 2 columns]"
            ],
            "text/html": [
              "\n",
              "  <div id=\"df-788f5d2d-26ee-496c-8007-d1064bff4178\">\n",
              "    <div class=\"colab-df-container\">\n",
              "      <div>\n",
              "<style scoped>\n",
              "    .dataframe tbody tr th:only-of-type {\n",
              "        vertical-align: middle;\n",
              "    }\n",
              "\n",
              "    .dataframe tbody tr th {\n",
              "        vertical-align: top;\n",
              "    }\n",
              "\n",
              "    .dataframe thead th {\n",
              "        text-align: right;\n",
              "    }\n",
              "</style>\n",
              "<table border=\"1\" class=\"dataframe\">\n",
              "  <thead>\n",
              "    <tr style=\"text-align: right;\">\n",
              "      <th></th>\n",
              "      <th>sentiment</th>\n",
              "      <th>tweet_content</th>\n",
              "    </tr>\n",
              "  </thead>\n",
              "  <tbody>\n",
              "    <tr>\n",
              "      <th>0</th>\n",
              "      <td>Positive</td>\n",
              "      <td>im getting on borderlands and i will murder yo...</td>\n",
              "    </tr>\n",
              "    <tr>\n",
              "      <th>1</th>\n",
              "      <td>Positive</td>\n",
              "      <td>I am coming to the borders and I will kill you...</td>\n",
              "    </tr>\n",
              "    <tr>\n",
              "      <th>2</th>\n",
              "      <td>Positive</td>\n",
              "      <td>im getting on borderlands and i will kill you ...</td>\n",
              "    </tr>\n",
              "    <tr>\n",
              "      <th>3</th>\n",
              "      <td>Positive</td>\n",
              "      <td>im coming on borderlands and i will murder you...</td>\n",
              "    </tr>\n",
              "    <tr>\n",
              "      <th>4</th>\n",
              "      <td>Positive</td>\n",
              "      <td>im getting on borderlands 2 and i will murder ...</td>\n",
              "    </tr>\n",
              "    <tr>\n",
              "      <th>...</th>\n",
              "      <td>...</td>\n",
              "      <td>...</td>\n",
              "    </tr>\n",
              "    <tr>\n",
              "      <th>74677</th>\n",
              "      <td>Positive</td>\n",
              "      <td>Just realized that the Windows partition of my...</td>\n",
              "    </tr>\n",
              "    <tr>\n",
              "      <th>74678</th>\n",
              "      <td>Positive</td>\n",
              "      <td>Just realized that my Mac window partition is ...</td>\n",
              "    </tr>\n",
              "    <tr>\n",
              "      <th>74679</th>\n",
              "      <td>Positive</td>\n",
              "      <td>Just realized the windows partition of my Mac ...</td>\n",
              "    </tr>\n",
              "    <tr>\n",
              "      <th>74680</th>\n",
              "      <td>Positive</td>\n",
              "      <td>Just realized between the windows partition of...</td>\n",
              "    </tr>\n",
              "    <tr>\n",
              "      <th>74681</th>\n",
              "      <td>Positive</td>\n",
              "      <td>Just like the windows partition of my Mac is l...</td>\n",
              "    </tr>\n",
              "  </tbody>\n",
              "</table>\n",
              "<p>74682 rows × 2 columns</p>\n",
              "</div>\n",
              "      <button class=\"colab-df-convert\" onclick=\"convertToInteractive('df-788f5d2d-26ee-496c-8007-d1064bff4178')\"\n",
              "              title=\"Convert this dataframe to an interactive table.\"\n",
              "              style=\"display:none;\">\n",
              "        \n",
              "  <svg xmlns=\"http://www.w3.org/2000/svg\" height=\"24px\"viewBox=\"0 0 24 24\"\n",
              "       width=\"24px\">\n",
              "    <path d=\"M0 0h24v24H0V0z\" fill=\"none\"/>\n",
              "    <path d=\"M18.56 5.44l.94 2.06.94-2.06 2.06-.94-2.06-.94-.94-2.06-.94 2.06-2.06.94zm-11 1L8.5 8.5l.94-2.06 2.06-.94-2.06-.94L8.5 2.5l-.94 2.06-2.06.94zm10 10l.94 2.06.94-2.06 2.06-.94-2.06-.94-.94-2.06-.94 2.06-2.06.94z\"/><path d=\"M17.41 7.96l-1.37-1.37c-.4-.4-.92-.59-1.43-.59-.52 0-1.04.2-1.43.59L10.3 9.45l-7.72 7.72c-.78.78-.78 2.05 0 2.83L4 21.41c.39.39.9.59 1.41.59.51 0 1.02-.2 1.41-.59l7.78-7.78 2.81-2.81c.8-.78.8-2.07 0-2.86zM5.41 20L4 18.59l7.72-7.72 1.47 1.35L5.41 20z\"/>\n",
              "  </svg>\n",
              "      </button>\n",
              "      \n",
              "  <style>\n",
              "    .colab-df-container {\n",
              "      display:flex;\n",
              "      flex-wrap:wrap;\n",
              "      gap: 12px;\n",
              "    }\n",
              "\n",
              "    .colab-df-convert {\n",
              "      background-color: #E8F0FE;\n",
              "      border: none;\n",
              "      border-radius: 50%;\n",
              "      cursor: pointer;\n",
              "      display: none;\n",
              "      fill: #1967D2;\n",
              "      height: 32px;\n",
              "      padding: 0 0 0 0;\n",
              "      width: 32px;\n",
              "    }\n",
              "\n",
              "    .colab-df-convert:hover {\n",
              "      background-color: #E2EBFA;\n",
              "      box-shadow: 0px 1px 2px rgba(60, 64, 67, 0.3), 0px 1px 3px 1px rgba(60, 64, 67, 0.15);\n",
              "      fill: #174EA6;\n",
              "    }\n",
              "\n",
              "    [theme=dark] .colab-df-convert {\n",
              "      background-color: #3B4455;\n",
              "      fill: #D2E3FC;\n",
              "    }\n",
              "\n",
              "    [theme=dark] .colab-df-convert:hover {\n",
              "      background-color: #434B5C;\n",
              "      box-shadow: 0px 1px 3px 1px rgba(0, 0, 0, 0.15);\n",
              "      filter: drop-shadow(0px 1px 2px rgba(0, 0, 0, 0.3));\n",
              "      fill: #FFFFFF;\n",
              "    }\n",
              "  </style>\n",
              "\n",
              "      <script>\n",
              "        const buttonEl =\n",
              "          document.querySelector('#df-788f5d2d-26ee-496c-8007-d1064bff4178 button.colab-df-convert');\n",
              "        buttonEl.style.display =\n",
              "          google.colab.kernel.accessAllowed ? 'block' : 'none';\n",
              "\n",
              "        async function convertToInteractive(key) {\n",
              "          const element = document.querySelector('#df-788f5d2d-26ee-496c-8007-d1064bff4178');\n",
              "          const dataTable =\n",
              "            await google.colab.kernel.invokeFunction('convertToInteractive',\n",
              "                                                     [key], {});\n",
              "          if (!dataTable) return;\n",
              "\n",
              "          const docLinkHtml = 'Like what you see? Visit the ' +\n",
              "            '<a target=\"_blank\" href=https://colab.research.google.com/notebooks/data_table.ipynb>data table notebook</a>'\n",
              "            + ' to learn more about interactive tables.';\n",
              "          element.innerHTML = '';\n",
              "          dataTable['output_type'] = 'display_data';\n",
              "          await google.colab.output.renderOutput(dataTable, element);\n",
              "          const docLink = document.createElement('div');\n",
              "          docLink.innerHTML = docLinkHtml;\n",
              "          element.appendChild(docLink);\n",
              "        }\n",
              "      </script>\n",
              "    </div>\n",
              "  </div>\n",
              "  "
            ]
          },
          "metadata": {}
        },
        {
          "output_type": "stream",
          "name": "stdout",
          "text": [
            "data dtypes:  sentiment        object\n",
            "tweet_content    object\n",
            "dtype: object\n",
            "sentiment        0\n",
            "tweet_content    0\n",
            "dtype: int64\n",
            "Index(['sentiment', 'tweet_content'], dtype='object')\n"
          ]
        }
      ]
    },
    {
      "cell_type": "markdown",
      "source": [
        "# Visualization of the graph"
      ],
      "metadata": {
        "id": "lSkZwnUDFYi5"
      }
    },
    {
      "cell_type": "code",
      "source": [
        "sb.catplot(x=\"sentiment\", kind=\"count\", data=data)\n",
        "plt.xlabel('Sentiment')\n",
        "plt.ylabel('Count')\n",
        "plt.title('Distribution of Twitter Sentiment')\n",
        "plt.show()"
      ],
      "metadata": {
        "colab": {
          "base_uri": "https://localhost:8080/",
          "height": 529
        },
        "id": "x3o2C370FcUF",
        "outputId": "e86be00e-e388-42aa-ca74-b06ddd3076f8"
      },
      "execution_count": 122,
      "outputs": [
        {
          "output_type": "display_data",
          "data": {
            "text/plain": [
              "<Figure size 500x500 with 1 Axes>"
            ],
            "image/png": "[encoded data removed]"
          },
          "metadata": {}
        }
      ]
    },
    {
      "cell_type": "markdown",
      "source": [
        "# Train and Test Sets"
      ],
      "metadata": {
        "id": "1atGU4QKTXS3"
      }
    },
    {
      "cell_type": "code",
      "source": [
        "# Divide into train and test sets\n",
        "# set up X and Y\n",
        "X = data[\"tweet_content\"]\n",
        "y = data[\"sentiment\"]\n",
        "\n",
        "X_train, X_test, y_train, y_test = train_test_split(X, y, test_size = 0.2, train_size=0.8, random_state=1234)\n",
        "\n",
        "# take a peek at the data\n",
        "# this is a very sparse matrix because most of the 8613 words don't occur in each sms message\n",
        "\n",
        "print('train size:', X_train.shape)\n",
        "print(X_train)\n",
        "\n",
        "print('\\ntest size:', X_test.shape)\n",
        "print(X_test[:5])"
      ],
      "metadata": {
        "colab": {
          "base_uri": "https://localhost:8080/"
        },
        "id": "CL_4HtzbTYAh",
        "outputId": "523b2753-fa71-4a5b-f851-0c2aa8e619b2"
      },
      "execution_count": 123,
      "outputs": [
        {
          "output_type": "stream",
          "name": "stdout",
          "text": [
            "train size: (59745,)\n",
            "22900    CS : FC GO Wingman Romania - Tech Sunt 2012 no...\n",
            "49433                                    A ZAYN IN MY DAY.\n",
            "12669    RhandlerR another one with my guy! RhandlerR R...\n",
            "4633                                   Are you kidding me?\n",
            "820      I went to bed at 4am. 5 hours before that at 9...\n",
            "                               ...                        \n",
            "55985    Fuck YouTube that twitch me donât wanna use ...\n",
            "32399                                                   to\n",
            "60620                      Check out my Facebook to see my\n",
            "34086    @FortniteGame this new update makes everyone l...\n",
            "58067    @Rainbow6Game is there great way to stop the p...\n",
            "Name: tweet_content, Length: 59745, dtype: object\n",
            "\n",
            "test size: (14937,)\n",
            "36232    Microsoft onedrive : 7 A hate thread. 1 / ME 3462\n",
            "55480    A Tried cod warzone with controller today, how...\n",
            "27065    not am really looking forward to that. I loved...\n",
            "30344    I have no idea what this is but is positive an...\n",
            "34082    my twin tasks are so ugly, a sniper rifle and ...\n",
            "Name: tweet_content, dtype: object\n"
          ]
        }
      ]
    },
    {
      "cell_type": "markdown",
      "source": [
        "# Text-Preprocessing"
      ],
      "metadata": {
        "id": "FKfgHu_BUr55"
      }
    },
    {
      "cell_type": "code",
      "source": [
        "from nltk.corpus import stopwords\n",
        "from sklearn.feature_extraction.text import TfidfVectorizer\n",
        "from sklearn.model_selection import train_test_split\n",
        "import nltk\n",
        "\n",
        "# Set stopwords as a list\n",
        "stopwords = set(stopwords.words('english'))\n",
        "vectorizer = TfidfVectorizer(stop_words=list(stopwords))\n",
        "\n",
        "# Ensure input data is in the correct format\n",
        "X_train, X_test, y_train, y_test = train_test_split(X, y, test_size=0.2, train_size=0.8, random_state=1234)\n",
        "\n",
        "# Apply the TfidfVectorizer\n",
        "X_train = vectorizer.fit_transform(X_train)\n",
        "X_test = vectorizer.transform(X_test)\n",
        "\n",
        "# peek at data\n",
        "print('train size:', X_train.shape)\n",
        "print(X_train.toarray()[:5])\n",
        "\n",
        "print('\\ntest size:', X_test.shape)\n",
        "print(X_test.toarray()[:5])"
      ],
      "metadata": {
        "colab": {
          "base_uri": "https://localhost:8080/"
        },
        "id": "2DB-awNNUvVW",
        "outputId": "a9146825-81f3-458a-8651-a759af7aacbf"
      },
      "execution_count": 124,
      "outputs": [
        {
          "output_type": "stream",
          "name": "stdout",
          "text": [
            "train size: (59745, 30687)\n",
            "[[0. 0. 0. ... 0. 0. 0.]\n",
            " [0. 0. 0. ... 0. 0. 0.]\n",
            " [0. 0. 0. ... 0. 0. 0.]\n",
            " [0. 0. 0. ... 0. 0. 0.]\n",
            " [0. 0. 0. ... 0. 0. 0.]]\n",
            "\n",
            "test size: (14937, 30687)\n",
            "[[0. 0. 0. ... 0. 0. 0.]\n",
            " [0. 0. 0. ... 0. 0. 0.]\n",
            " [0. 0. 0. ... 0. 0. 0.]\n",
            " [0. 0. 0. ... 0. 0. 0.]\n",
            " [0. 0. 0. ... 0. 0. 0.]]\n"
          ]
        }
      ]
    },
    {
      "cell_type": "markdown",
      "source": [
        "# Naive Bayes"
      ],
      "metadata": {
        "id": "nM8s1RfjYLSY"
      }
    },
    {
      "cell_type": "code",
      "source": [
        "from sklearn.naive_bayes import BernoulliNB\n",
        "\n",
        "naive_bayes = BernoulliNB()\n",
        "naive_bayes.fit(X_train, y_train)"
      ],
      "metadata": {
        "colab": {
          "base_uri": "https://localhost:8080/",
          "height": 75
        },
        "id": "FV9kn0PcYQq9",
        "outputId": "c5d93b19-a312-4aff-9fe1-5d2edf28ee7e"
      },
      "execution_count": 125,
      "outputs": [
        {
          "output_type": "execute_result",
          "data": {
            "text/plain": [
              "BernoulliNB()"
            ],
            "text/html": [
              "<style>#sk-container-id-16 {color: black;background-color: white;}#sk-container-id-16 pre{padding: 0;}#sk-container-id-16 div.sk-toggleable {background-color: white;}#sk-container-id-16 label.sk-toggleable__label {cursor: pointer;display: block;width: 100%;margin-bottom: 0;padding: 0.3em;box-sizing: border-box;text-align: center;}#sk-container-id-16 label.sk-toggleable__label-arrow:before {content: \"▸\";float: left;margin-right: 0.25em;color: #696969;}#sk-container-id-16 label.sk-toggleable__label-arrow:hover:before {color: black;}#sk-container-id-16 div.sk-estimator:hover label.sk-toggleable__label-arrow:before {color: black;}#sk-container-id-16 div.sk-toggleable__content {max-height: 0;max-width: 0;overflow: hidden;text-align: left;background-color: #f0f8ff;}#sk-container-id-16 div.sk-toggleable__content pre {margin: 0.2em;color: black;border-radius: 0.25em;background-color: #f0f8ff;}#sk-container-id-16 input.sk-toggleable__control:checked~div.sk-toggleable__content {max-height: 200px;max-width: 100%;overflow: auto;}#sk-container-id-16 input.sk-toggleable__control:checked~label.sk-toggleable__label-arrow:before {content: \"▾\";}#sk-container-id-16 div.sk-estimator input.sk-toggleable__control:checked~label.sk-toggleable__label {background-color: #d4ebff;}#sk-container-id-16 div.sk-label input.sk-toggleable__control:checked~label.sk-toggleable__label {background-color: #d4ebff;}#sk-container-id-16 input.sk-hidden--visually {border: 0;clip: rect(1px 1px 1px 1px);clip: rect(1px, 1px, 1px, 1px);height: 1px;margin: -1px;overflow: hidden;padding: 0;position: absolute;width: 1px;}#sk-container-id-16 div.sk-estimator {font-family: monospace;background-color: #f0f8ff;border: 1px dotted black;border-radius: 0.25em;box-sizing: border-box;margin-bottom: 0.5em;}#sk-container-id-16 div.sk-estimator:hover {background-color: #d4ebff;}#sk-container-id-16 div.sk-parallel-item::after {content: \"\";width: 100%;border-bottom: 1px solid gray;flex-grow: 1;}#sk-container-id-16 div.sk-label:hover label.sk-toggleable__label {background-color: #d4ebff;}#sk-container-id-16 div.sk-serial::before {content: \"\";position: absolute;border-left: 1px solid gray;box-sizing: border-box;top: 0;bottom: 0;left: 50%;z-index: 0;}#sk-container-id-16 div.sk-serial {display: flex;flex-direction: column;align-items: center;background-color: white;padding-right: 0.2em;padding-left: 0.2em;position: relative;}#sk-container-id-16 div.sk-item {position: relative;z-index: 1;}#sk-container-id-16 div.sk-parallel {display: flex;align-items: stretch;justify-content: center;background-color: white;position: relative;}#sk-container-id-16 div.sk-item::before, #sk-container-id-16 div.sk-parallel-item::before {content: \"\";position: absolute;border-left: 1px solid gray;box-sizing: border-box;top: 0;bottom: 0;left: 50%;z-index: -1;}#sk-container-id-16 div.sk-parallel-item {display: flex;flex-direction: column;z-index: 1;position: relative;background-color: white;}#sk-container-id-16 div.sk-parallel-item:first-child::after {align-self: flex-end;width: 50%;}#sk-container-id-16 div.sk-parallel-item:last-child::after {align-self: flex-start;width: 50%;}#sk-container-id-16 div.sk-parallel-item:only-child::after {width: 0;}#sk-container-id-16 div.sk-dashed-wrapped {border: 1px dashed gray;margin: 0 0.4em 0.5em 0.4em;box-sizing: border-box;padding-bottom: 0.4em;background-color: white;}#sk-container-id-16 div.sk-label label {font-family: monospace;font-weight: bold;display: inline-block;line-height: 1.2em;}#sk-container-id-16 div.sk-label-container {text-align: center;}#sk-container-id-16 div.sk-container {/* jupyter's `normalize.less` sets `[hidden] { display: none; }` but bootstrap.min.css set `[hidden] { display: none !important; }` so we also need the `!important` here to be able to override the default hidden behavior on the sphinx rendered scikit-learn.org. See: https://github.com/scikit-learn/scikit-learn/issues/21755 */display: inline-block !important;position: relative;}#sk-container-id-16 div.sk-text-repr-fallback {display: none;}</style><div id=\"sk-container-id-16\" class=\"sk-top-container\"><div class=\"sk-text-repr-fallback\"><pre>BernoulliNB()</pre><b>In a Jupyter environment, please rerun this cell to show the HTML representation or trust the notebook. <br />On GitHub, the HTML representation is unable to render, please try loading this page with nbviewer.org.</b></div><div class=\"sk-container\" hidden><div class=\"sk-item\"><div class=\"sk-estimator sk-toggleable\"><input class=\"sk-toggleable__control sk-hidden--visually\" id=\"sk-estimator-id-20\" type=\"checkbox\" checked><label for=\"sk-estimator-id-20\" class=\"sk-toggleable__label sk-toggleable__label-arrow\">BernoulliNB</label><div class=\"sk-toggleable__content\"><pre>BernoulliNB()</pre></div></div></div></div></div>"
            ]
          },
          "metadata": {},
          "execution_count": 125
        }
      ]
    },
    {
      "cell_type": "markdown",
      "source": [
        "NB Model\n",
        "\n",
        "The Bernouli NB model has a 73.8% accuracy compared to the other model along with higher precision. "
      ],
      "metadata": {
        "id": "h8cgSTbRY5Tb"
      }
    },
    {
      "cell_type": "markdown",
      "source": [],
      "metadata": {
        "id": "1csRw3UIxvOd"
      }
    },
    {
      "cell_type": "code",
      "source": [
        "\n",
        "from sklearn.metrics import accuracy_score, precision_score, recall_score, f1_score, confusion_matrix\n",
        "import math\n",
        "prior_p = sum(y_train == 1)/len(y_train)\n",
        "print('prior sentiment:', prior_p, 'log of prior:', math.log(prior_p + 1e-6 ))\n",
        "\n",
        "# the model prior matches the prior calculated above\n",
        "naive_bayes.class_log_prior_[1]\n",
        "\n",
        "\n",
        "# make predictions on the test data\n",
        "pred = naive_bayes.predict(X_test)\n",
        "\n",
        "# confusion matrix\n",
        "print('confusion matrix: ', confusion_matrix(y_test, pred))\n",
        "\n",
        "\n",
        "# accuracy score\n",
        "\n",
        "print('\\naccuracy score: ', accuracy_score(y_test, pred))\n",
        "\n",
        "# precision\n",
        "print('\\nprecision score : ', precision_score(y_test, pred, average='macro'))\n",
        "# recall\n",
        "print('\\nrecall score: ', recall_score(y_test, pred, average='macro'))\n",
        "      \n",
        "print('\\nf1 score: ', f1_score(y_test, pred, average='macro'))\n",
        "\n",
        "# precision \n",
        "print('\\nprecision score: ', precision_score(y_test, pred, average=None))\n",
        "# recall\n",
        "print('\\nrecall score: ', recall_score(y_test, pred,average=None))\n",
        "      \n",
        "print('\\nf1 score: ', f1_score(y_test, pred, average=None))"
      ],
      "metadata": {
        "colab": {
          "base_uri": "https://localhost:8080/"
        },
        "id": "c_N7FrkmY8kT",
        "outputId": "efd6ba4e-256f-4772-9a4e-a46194aca58e"
      },
      "execution_count": 126,
      "outputs": [
        {
          "output_type": "stream",
          "name": "stdout",
          "text": [
            "prior sentiment: 0.0 log of prior: -13.815510557964274\n",
            "confusion matrix:  [[1489  385   49  722]\n",
            " [  46 3659  106  707]\n",
            " [ 117  497 2208  875]\n",
            " [  38  301  101 3637]]\n",
            "\n",
            "accuracy score:  0.7359576889602999\n",
            "\n",
            "precision score :  0.7862587391858183\n",
            "\n",
            "recall score:  0.7155347747769816\n",
            "\n",
            "f1 score:  0.7279159873371306\n",
            "\n",
            "precision score:  [0.88106509 0.75567947 0.8961039  0.6121865 ]\n",
            "\n",
            "recall score:  [0.56294896 0.80987162 0.59724101 0.89207751]\n",
            "\n",
            "f1 score:  [0.68696655 0.78183761 0.71676676 0.72609303]\n"
          ]
        }
      ]
    },
    {
      "cell_type": "markdown",
      "source": [
        "I'll be using the Multinomial Bayes classifier and evaluating the model for the second attempt. Will have the average set to none for the first one then setting the other portion to micro\n",
        "\n",
        "\n",
        "'micro': Calculate metrics globally by counting the total true positives, false negatives and false positives.\n",
        "\n",
        "'macro': Calculate metrics for each label, and find their unweighted mean. This does not take label imbalance into account."
      ],
      "metadata": {
        "id": "Pb54IAVrtJ4p"
      }
    },
    {
      "cell_type": "code",
      "source": [
        "from sklearn.naive_bayes import MultinomialNB\n",
        "\n",
        "nb_v2 = MultinomialNB()\n",
        "nb_v2.fit(X_train, y_train)\n"
      ],
      "metadata": {
        "colab": {
          "base_uri": "https://localhost:8080/",
          "height": 75
        },
        "id": "iuq0tnJVs03E",
        "outputId": "77703c0d-a2f0-4726-fe74-c00268d35288"
      },
      "execution_count": 127,
      "outputs": [
        {
          "output_type": "execute_result",
          "data": {
            "text/plain": [
              "MultinomialNB()"
            ],
            "text/html": [
              "<style>#sk-container-id-17 {color: black;background-color: white;}#sk-container-id-17 pre{padding: 0;}#sk-container-id-17 div.sk-toggleable {background-color: white;}#sk-container-id-17 label.sk-toggleable__label {cursor: pointer;display: block;width: 100%;margin-bottom: 0;padding: 0.3em;box-sizing: border-box;text-align: center;}#sk-container-id-17 label.sk-toggleable__label-arrow:before {content: \"▸\";float: left;margin-right: 0.25em;color: #696969;}#sk-container-id-17 label.sk-toggleable__label-arrow:hover:before {color: black;}#sk-container-id-17 div.sk-estimator:hover label.sk-toggleable__label-arrow:before {color: black;}#sk-container-id-17 div.sk-toggleable__content {max-height: 0;max-width: 0;overflow: hidden;text-align: left;background-color: #f0f8ff;}#sk-container-id-17 div.sk-toggleable__content pre {margin: 0.2em;color: black;border-radius: 0.25em;background-color: #f0f8ff;}#sk-container-id-17 input.sk-toggleable__control:checked~div.sk-toggleable__content {max-height: 200px;max-width: 100%;overflow: auto;}#sk-container-id-17 input.sk-toggleable__control:checked~label.sk-toggleable__label-arrow:before {content: \"▾\";}#sk-container-id-17 div.sk-estimator input.sk-toggleable__control:checked~label.sk-toggleable__label {background-color: #d4ebff;}#sk-container-id-17 div.sk-label input.sk-toggleable__control:checked~label.sk-toggleable__label {background-color: #d4ebff;}#sk-container-id-17 input.sk-hidden--visually {border: 0;clip: rect(1px 1px 1px 1px);clip: rect(1px, 1px, 1px, 1px);height: 1px;margin: -1px;overflow: hidden;padding: 0;position: absolute;width: 1px;}#sk-container-id-17 div.sk-estimator {font-family: monospace;background-color: #f0f8ff;border: 1px dotted black;border-radius: 0.25em;box-sizing: border-box;margin-bottom: 0.5em;}#sk-container-id-17 div.sk-estimator:hover {background-color: #d4ebff;}#sk-container-id-17 div.sk-parallel-item::after {content: \"\";width: 100%;border-bottom: 1px solid gray;flex-grow: 1;}#sk-container-id-17 div.sk-label:hover label.sk-toggleable__label {background-color: #d4ebff;}#sk-container-id-17 div.sk-serial::before {content: \"\";position: absolute;border-left: 1px solid gray;box-sizing: border-box;top: 0;bottom: 0;left: 50%;z-index: 0;}#sk-container-id-17 div.sk-serial {display: flex;flex-direction: column;align-items: center;background-color: white;padding-right: 0.2em;padding-left: 0.2em;position: relative;}#sk-container-id-17 div.sk-item {position: relative;z-index: 1;}#sk-container-id-17 div.sk-parallel {display: flex;align-items: stretch;justify-content: center;background-color: white;position: relative;}#sk-container-id-17 div.sk-item::before, #sk-container-id-17 div.sk-parallel-item::before {content: \"\";position: absolute;border-left: 1px solid gray;box-sizing: border-box;top: 0;bottom: 0;left: 50%;z-index: -1;}#sk-container-id-17 div.sk-parallel-item {display: flex;flex-direction: column;z-index: 1;position: relative;background-color: white;}#sk-container-id-17 div.sk-parallel-item:first-child::after {align-self: flex-end;width: 50%;}#sk-container-id-17 div.sk-parallel-item:last-child::after {align-self: flex-start;width: 50%;}#sk-container-id-17 div.sk-parallel-item:only-child::after {width: 0;}#sk-container-id-17 div.sk-dashed-wrapped {border: 1px dashed gray;margin: 0 0.4em 0.5em 0.4em;box-sizing: border-box;padding-bottom: 0.4em;background-color: white;}#sk-container-id-17 div.sk-label label {font-family: monospace;font-weight: bold;display: inline-block;line-height: 1.2em;}#sk-container-id-17 div.sk-label-container {text-align: center;}#sk-container-id-17 div.sk-container {/* jupyter's `normalize.less` sets `[hidden] { display: none; }` but bootstrap.min.css set `[hidden] { display: none !important; }` so we also need the `!important` here to be able to override the default hidden behavior on the sphinx rendered scikit-learn.org. See: https://github.com/scikit-learn/scikit-learn/issues/21755 */display: inline-block !important;position: relative;}#sk-container-id-17 div.sk-text-repr-fallback {display: none;}</style><div id=\"sk-container-id-17\" class=\"sk-top-container\"><div class=\"sk-text-repr-fallback\"><pre>MultinomialNB()</pre><b>In a Jupyter environment, please rerun this cell to show the HTML representation or trust the notebook. <br />On GitHub, the HTML representation is unable to render, please try loading this page with nbviewer.org.</b></div><div class=\"sk-container\" hidden><div class=\"sk-item\"><div class=\"sk-estimator sk-toggleable\"><input class=\"sk-toggleable__control sk-hidden--visually\" id=\"sk-estimator-id-21\" type=\"checkbox\" checked><label for=\"sk-estimator-id-21\" class=\"sk-toggleable__label sk-toggleable__label-arrow\">MultinomialNB</label><div class=\"sk-toggleable__content\"><pre>MultinomialNB()</pre></div></div></div></div></div>"
            ]
          },
          "metadata": {},
          "execution_count": 127
        }
      ]
    },
    {
      "cell_type": "code",
      "source": [
        "# make predictions on the test data\n",
        "predv2 = nb_v2.predict(X_test)\n",
        "\n",
        "\n",
        "# confusion matrix\n",
        "print('confusion matrix: ', confusion_matrix(y_test, predv2))\n",
        "\n",
        "#[positive, neutral, negative, irrelevant] \n",
        "# accuracy score\n",
        "\n",
        "print('\\naccuracy score: ', accuracy_score(y_test, predv2))\n",
        "\n",
        "# precision\n",
        "print('\\nprecision score : ', precision_score(y_test, predv2, average=None))\n",
        "# recall\n",
        "print('\\nrecall score: ', recall_score(y_test, predv2,average=None))\n",
        "      \n",
        "print('\\nf1 score: ', f1_score(y_test, predv2, average=None))\n",
        "\n",
        "# weighted\n",
        "print('\\nprecision score micro: ', precision_score(y_test, predv2, average=\"micro\"))\n",
        "# recall\n",
        "print('\\nrecall score micro: ', recall_score(y_test, predv2,average=\"micro\"))\n",
        "      \n",
        "print('\\nf1 score micro: ', f1_score(y_test, predv2, average=\"micro\"))"
      ],
      "metadata": {
        "colab": {
          "base_uri": "https://localhost:8080/"
        },
        "id": "fb3TWs2au17e",
        "outputId": "aca9bad3-4b6f-4841-db6c-75dec9727737"
      },
      "execution_count": 128,
      "outputs": [
        {
          "output_type": "stream",
          "name": "stdout",
          "text": [
            "confusion matrix:  [[1197  736  148  564]\n",
            " [  11 4067  130  310]\n",
            " [  20  762 2402  513]\n",
            " [  17  609  124 3327]]\n",
            "\n",
            "accuracy score:  0.7359576889602999\n",
            "\n",
            "precision score :  [0.96144578 0.65873016 0.85663338 0.70577005]\n",
            "\n",
            "recall score:  [0.45255198 0.90017707 0.64971599 0.81604121]\n",
            "\n",
            "f1 score:  [0.61542416 0.76075571 0.73896324 0.75691048]\n",
            "\n",
            "precision score micro:  0.7359576889602999\n",
            "\n",
            "recall score micro:  0.7359576889602999\n",
            "\n",
            "f1 score micro:  0.7359576889602999\n"
          ]
        }
      ]
    },
    {
      "cell_type": "markdown",
      "source": [
        "# Logistic Regression\n",
        "\n",
        "I'll be using LR with and without pipelines in two attempts\n",
        "\n"
      ],
      "metadata": {
        "id": "eLau0B16xwyX"
      }
    },
    {
      "cell_type": "code",
      "source": [
        "from sklearn.linear_model import LogisticRegression\n",
        "from sklearn.metrics import accuracy_score, precision_score, recall_score, f1_score, log_loss\n",
        "\n",
        "#train\n",
        "classifier = LogisticRegression(solver='lbfgs', class_weight='balanced',max_iter=1000)\n",
        "classifier.fit(X_train, y_train)\n",
        "\n",
        "# evaluate\n",
        "pred = classifier.predict(X_test)\n",
        "print('accuracy score: ', accuracy_score(y_test, pred))\n",
        "print('precision score: ', precision_score(y_test, pred, average=None))\n",
        "print('recall score: ', recall_score(y_test, pred, average=None))\n",
        "print('f1 score: ', f1_score(y_test, pred, average=None))\n",
        "probs = classifier.predict_proba(X_test)\n",
        "print('log loss: ', log_loss(y_test, probs))\n",
        "\n",
        "\n",
        "\n",
        "print('accuracy score micro: ', accuracy_score(y_test, pred))\n",
        "print('precision score micro: ', precision_score(y_test, pred, average='micro'))\n",
        "print('recall score micro: ', recall_score(y_test, pred,average='micro'))\n",
        "print('f1 score micro: ', f1_score(y_test, pred,average='micro'))\n",
        "probs = classifier.predict_proba(X_test)\n",
        "print('log loss micro: ', log_loss(y_test, probs))"
      ],
      "metadata": {
        "colab": {
          "base_uri": "https://localhost:8080/"
        },
        "id": "4abQBaXBfc6h",
        "outputId": "4326e99a-b259-4739-dad6-dbf8e3a29acb"
      },
      "execution_count": 129,
      "outputs": [
        {
          "output_type": "stream",
          "name": "stdout",
          "text": [
            "accuracy score:  0.7903193412331794\n",
            "precision score:  [0.67575015 0.84694594 0.81042927 0.80621339]\n",
            "recall score:  [0.83440454 0.80101815 0.76088721 0.77655139]\n",
            "f1 score:  [0.74674336 0.82334205 0.78487723 0.79110445]\n",
            "log loss:  0.6726464750888004\n",
            "accuracy score micro:  0.7903193412331794\n",
            "precision score micro:  0.7903193412331794\n",
            "recall score micro:  0.7903193412331794\n",
            "f1 score micro:  0.7903193412331795\n",
            "log loss micro:  0.6726464750888004\n"
          ]
        }
      ]
    },
    {
      "cell_type": "markdown",
      "source": [
        "This attempt will use pipeline"
      ],
      "metadata": {
        "id": "hmCwcpSMh9NL"
      }
    },
    {
      "cell_type": "code",
      "source": [
        "from sklearn.pipeline import Pipeline\n",
        "\n",
        "\n",
        "# read in data, split raw data into train and test, then use pipeline to transform\n",
        "pipe1 = Pipeline([\n",
        "    ('tfidf', TfidfVectorizer(stop_words=list(stopwords), binary=True)),\n",
        "    ('logreg', LogisticRegression(solver='lbfgs', class_weight='balanced', max_iter=1000)),\n",
        "])\n",
        "\n",
        "# Use the raw text data in train and test sets\n",
        "X_train, X_test, y_train, y_test = train_test_split(X, y, test_size=0.2, train_size=0.8, random_state=1234)\n",
        "\n",
        "pipe1.fit(X_train, y_train)"
      ],
      "metadata": {
        "colab": {
          "base_uri": "https://localhost:8080/",
          "height": 126
        },
        "id": "bDnGIT28iAOX",
        "outputId": "5b808c1d-9ec8-457b-8d13-4edf749da9d7"
      },
      "execution_count": 133,
      "outputs": [
        {
          "output_type": "execute_result",
          "data": {
            "text/plain": [
              "Pipeline(steps=[('tfidf',\n",
              "                 TfidfVectorizer(binary=True,\n",
              "                                 stop_words=['am', 'which', 'been', 'here',\n",
              "                                             'herself', 'you', 'mightn', 'be',\n",
              "                                             'into', \"hadn't\", 'yourself',\n",
              "                                             'for', 'her', 'were', 'being',\n",
              "                                             'of', 'between', 'above', 've',\n",
              "                                             'hadn', 'm', 'an', 'does', 'was',\n",
              "                                             'weren', 'before', 'so', \"it's\",\n",
              "                                             'isn', 'further', ...])),\n",
              "                ('logreg',\n",
              "                 LogisticRegression(class_weight='balanced', max_iter=1000))])"
            ],
            "text/html": [
              "<style>#sk-container-id-18 {color: black;background-color: white;}#sk-container-id-18 pre{padding: 0;}#sk-container-id-18 div.sk-toggleable {background-color: white;}#sk-container-id-18 label.sk-toggleable__label {cursor: pointer;display: block;width: 100%;margin-bottom: 0;padding: 0.3em;box-sizing: border-box;text-align: center;}#sk-container-id-18 label.sk-toggleable__label-arrow:before {content: \"▸\";float: left;margin-right: 0.25em;color: #696969;}#sk-container-id-18 label.sk-toggleable__label-arrow:hover:before {color: black;}#sk-container-id-18 div.sk-estimator:hover label.sk-toggleable__label-arrow:before {color: black;}#sk-container-id-18 div.sk-toggleable__content {max-height: 0;max-width: 0;overflow: hidden;text-align: left;background-color: #f0f8ff;}#sk-container-id-18 div.sk-toggleable__content pre {margin: 0.2em;color: black;border-radius: 0.25em;background-color: #f0f8ff;}#sk-container-id-18 input.sk-toggleable__control:checked~div.sk-toggleable__content {max-height: 200px;max-width: 100%;overflow: auto;}#sk-container-id-18 input.sk-toggleable__control:checked~label.sk-toggleable__label-arrow:before {content: \"▾\";}#sk-container-id-18 div.sk-estimator input.sk-toggleable__control:checked~label.sk-toggleable__label {background-color: #d4ebff;}#sk-container-id-18 div.sk-label input.sk-toggleable__control:checked~label.sk-toggleable__label {background-color: #d4ebff;}#sk-container-id-18 input.sk-hidden--visually {border: 0;clip: rect(1px 1px 1px 1px);clip: rect(1px, 1px, 1px, 1px);height: 1px;margin: -1px;overflow: hidden;padding: 0;position: absolute;width: 1px;}#sk-container-id-18 div.sk-estimator {font-family: monospace;background-color: #f0f8ff;border: 1px dotted black;border-radius: 0.25em;box-sizing: border-box;margin-bottom: 0.5em;}#sk-container-id-18 div.sk-estimator:hover {background-color: #d4ebff;}#sk-container-id-18 div.sk-parallel-item::after {content: \"\";width: 100%;border-bottom: 1px solid gray;flex-grow: 1;}#sk-container-id-18 div.sk-label:hover label.sk-toggleable__label {background-color: #d4ebff;}#sk-container-id-18 div.sk-serial::before {content: \"\";position: absolute;border-left: 1px solid gray;box-sizing: border-box;top: 0;bottom: 0;left: 50%;z-index: 0;}#sk-container-id-18 div.sk-serial {display: flex;flex-direction: column;align-items: center;background-color: white;padding-right: 0.2em;padding-left: 0.2em;position: relative;}#sk-container-id-18 div.sk-item {position: relative;z-index: 1;}#sk-container-id-18 div.sk-parallel {display: flex;align-items: stretch;justify-content: center;background-color: white;position: relative;}#sk-container-id-18 div.sk-item::before, #sk-container-id-18 div.sk-parallel-item::before {content: \"\";position: absolute;border-left: 1px solid gray;box-sizing: border-box;top: 0;bottom: 0;left: 50%;z-index: -1;}#sk-container-id-18 div.sk-parallel-item {display: flex;flex-direction: column;z-index: 1;position: relative;background-color: white;}#sk-container-id-18 div.sk-parallel-item:first-child::after {align-self: flex-end;width: 50%;}#sk-container-id-18 div.sk-parallel-item:last-child::after {align-self: flex-start;width: 50%;}#sk-container-id-18 div.sk-parallel-item:only-child::after {width: 0;}#sk-container-id-18 div.sk-dashed-wrapped {border: 1px dashed gray;margin: 0 0.4em 0.5em 0.4em;box-sizing: border-box;padding-bottom: 0.4em;background-color: white;}#sk-container-id-18 div.sk-label label {font-family: monospace;font-weight: bold;display: inline-block;line-height: 1.2em;}#sk-container-id-18 div.sk-label-container {text-align: center;}#sk-container-id-18 div.sk-container {/* jupyter's `normalize.less` sets `[hidden] { display: none; }` but bootstrap.min.css set `[hidden] { display: none !important; }` so we also need the `!important` here to be able to override the default hidden behavior on the sphinx rendered scikit-learn.org. See: https://github.com/scikit-learn/scikit-learn/issues/21755 */display: inline-block !important;position: relative;}#sk-container-id-18 div.sk-text-repr-fallback {display: none;}</style><div id=\"sk-container-id-18\" class=\"sk-top-container\"><div class=\"sk-text-repr-fallback\"><pre>Pipeline(steps=[(&#x27;tfidf&#x27;,\n",
              "                 TfidfVectorizer(binary=True,\n",
              "                                 stop_words=[&#x27;am&#x27;, &#x27;which&#x27;, &#x27;been&#x27;, &#x27;here&#x27;,\n",
              "                                             &#x27;herself&#x27;, &#x27;you&#x27;, &#x27;mightn&#x27;, &#x27;be&#x27;,\n",
              "                                             &#x27;into&#x27;, &quot;hadn&#x27;t&quot;, &#x27;yourself&#x27;,\n",
              "                                             &#x27;for&#x27;, &#x27;her&#x27;, &#x27;were&#x27;, &#x27;being&#x27;,\n",
              "                                             &#x27;of&#x27;, &#x27;between&#x27;, &#x27;above&#x27;, &#x27;ve&#x27;,\n",
              "                                             &#x27;hadn&#x27;, &#x27;m&#x27;, &#x27;an&#x27;, &#x27;does&#x27;, &#x27;was&#x27;,\n",
              "                                             &#x27;weren&#x27;, &#x27;before&#x27;, &#x27;so&#x27;, &quot;it&#x27;s&quot;,\n",
              "                                             &#x27;isn&#x27;, &#x27;further&#x27;, ...])),\n",
              "                (&#x27;logreg&#x27;,\n",
              "                 LogisticRegression(class_weight=&#x27;balanced&#x27;, max_iter=1000))])</pre><b>In a Jupyter environment, please rerun this cell to show the HTML representation or trust the notebook. <br />On GitHub, the HTML representation is unable to render, please try loading this page with nbviewer.org.</b></div><div class=\"sk-container\" hidden><div class=\"sk-item sk-dashed-wrapped\"><div class=\"sk-label-container\"><div class=\"sk-label sk-toggleable\"><input class=\"sk-toggleable__control sk-hidden--visually\" id=\"sk-estimator-id-22\" type=\"checkbox\" ><label for=\"sk-estimator-id-22\" class=\"sk-toggleable__label sk-toggleable__label-arrow\">Pipeline</label><div class=\"sk-toggleable__content\"><pre>Pipeline(steps=[(&#x27;tfidf&#x27;,\n",
              "                 TfidfVectorizer(binary=True,\n",
              "                                 stop_words=[&#x27;am&#x27;, &#x27;which&#x27;, &#x27;been&#x27;, &#x27;here&#x27;,\n",
              "                                             &#x27;herself&#x27;, &#x27;you&#x27;, &#x27;mightn&#x27;, &#x27;be&#x27;,\n",
              "                                             &#x27;into&#x27;, &quot;hadn&#x27;t&quot;, &#x27;yourself&#x27;,\n",
              "                                             &#x27;for&#x27;, &#x27;her&#x27;, &#x27;were&#x27;, &#x27;being&#x27;,\n",
              "                                             &#x27;of&#x27;, &#x27;between&#x27;, &#x27;above&#x27;, &#x27;ve&#x27;,\n",
              "                                             &#x27;hadn&#x27;, &#x27;m&#x27;, &#x27;an&#x27;, &#x27;does&#x27;, &#x27;was&#x27;,\n",
              "                                             &#x27;weren&#x27;, &#x27;before&#x27;, &#x27;so&#x27;, &quot;it&#x27;s&quot;,\n",
              "                                             &#x27;isn&#x27;, &#x27;further&#x27;, ...])),\n",
              "                (&#x27;logreg&#x27;,\n",
              "                 LogisticRegression(class_weight=&#x27;balanced&#x27;, max_iter=1000))])</pre></div></div></div><div class=\"sk-serial\"><div class=\"sk-item\"><div class=\"sk-estimator sk-toggleable\"><input class=\"sk-toggleable__control sk-hidden--visually\" id=\"sk-estimator-id-23\" type=\"checkbox\" ><label for=\"sk-estimator-id-23\" class=\"sk-toggleable__label sk-toggleable__label-arrow\">TfidfVectorizer</label><div class=\"sk-toggleable__content\"><pre>TfidfVectorizer(binary=True,\n",
              "                stop_words=[&#x27;am&#x27;, &#x27;which&#x27;, &#x27;been&#x27;, &#x27;here&#x27;, &#x27;herself&#x27;, &#x27;you&#x27;,\n",
              "                            &#x27;mightn&#x27;, &#x27;be&#x27;, &#x27;into&#x27;, &quot;hadn&#x27;t&quot;, &#x27;yourself&#x27;, &#x27;for&#x27;,\n",
              "                            &#x27;her&#x27;, &#x27;were&#x27;, &#x27;being&#x27;, &#x27;of&#x27;, &#x27;between&#x27;, &#x27;above&#x27;,\n",
              "                            &#x27;ve&#x27;, &#x27;hadn&#x27;, &#x27;m&#x27;, &#x27;an&#x27;, &#x27;does&#x27;, &#x27;was&#x27;, &#x27;weren&#x27;,\n",
              "                            &#x27;before&#x27;, &#x27;so&#x27;, &quot;it&#x27;s&quot;, &#x27;isn&#x27;, &#x27;further&#x27;, ...])</pre></div></div></div><div class=\"sk-item\"><div class=\"sk-estimator sk-toggleable\"><input class=\"sk-toggleable__control sk-hidden--visually\" id=\"sk-estimator-id-24\" type=\"checkbox\" ><label for=\"sk-estimator-id-24\" class=\"sk-toggleable__label sk-toggleable__label-arrow\">LogisticRegression</label><div class=\"sk-toggleable__content\"><pre>LogisticRegression(class_weight=&#x27;balanced&#x27;, max_iter=1000)</pre></div></div></div></div></div></div></div>"
            ]
          },
          "metadata": {},
          "execution_count": 133
        }
      ]
    },
    {
      "cell_type": "code",
      "source": [
        "pred = pipe1.predict(X_test)\n",
        "print('accuracy score: ', accuracy_score(y_test, pred))\n",
        "print('precision score: ', precision_score(y_test, pred, average=None))\n",
        "print('recall score: ', recall_score(y_test, pred,average=None))\n",
        "print('f1 score: ', f1_score(y_test, pred,average=None))\n",
        "probs = pipe1.predict_proba(X_test)\n",
        "print('log loss: ', log_loss(y_test, probs))\n",
        "\n",
        "\n",
        "print('accuracy score micro: ', accuracy_score(y_test, pred))\n",
        "print('precision score micro: ', precision_score(y_test, pred, average='micro'))\n",
        "print('recall score micro: ', recall_score(y_test, pred,average='micro'))\n",
        "print('f1 score micro: ', f1_score(y_test, pred,average='micro'))\n",
        "probs = pipe1.predict_proba(X_test)\n",
        "print('log loss micro: ', log_loss(y_test, probs))\n"
      ],
      "metadata": {
        "colab": {
          "base_uri": "https://localhost:8080/"
        },
        "id": "0H6wq_rjqXTV",
        "outputId": "8ceab3b5-810b-44e0-ce37-4eae984e35fb"
      },
      "execution_count": 137,
      "outputs": [
        {
          "output_type": "stream",
          "name": "stdout",
          "text": [
            "accuracy score:  0.7977505523197429\n",
            "precision score:  [0.77024616 0.85114862 0.74924166 0.80828221]\n",
            "recall score:  [0.81625709 0.80367419 0.80173113 0.77557027]\n",
            "f1 score:  [0.79258443 0.82673042 0.7745982  0.79158843]\n",
            "log loss:  0.6686961671968155\n",
            "accuracy score micro:  0.7977505523197429\n",
            "precision score micro:  0.7977505523197429\n",
            "recall score micro:  0.7977505523197429\n",
            "f1 score micro:  0.7977505523197429\n",
            "log loss micro:  0.6686961671968155\n"
          ]
        }
      ]
    },
    {
      "cell_type": "markdown",
      "source": [
        "Based on the results Logistic Regression gives better results than Naive Bayes.\n",
        "\n",
        "The Logistic Regression model performs better with an accuracy of 0.7978, while the Naive Bayes model has an accuracy of 0.7360. This means that the LR model classifies a higher percentage of instances correctly.\n",
        "\n",
        "Regarding the other scores the LR performs better across all classes. While the Naive bayes has a very high precision score for the first class, its recall score is much lower. This means that the NB model is overly conservative in predicting the first class which has a negative effect on the performance.\n"
      ],
      "metadata": {
        "id": "L-a85dDQ0ejG"
      }
    },
    {
      "cell_type": "markdown",
      "source": [
        "# Neural Network"
      ],
      "metadata": {
        "id": "8okI5nx83Ygz"
      }
    },
    {
      "cell_type": "code",
      "source": [
        "\n",
        "\n",
        "# text preprocessing\n",
        "from nltk.corpus import stopwords\n",
        "from sklearn.feature_extraction.text import TfidfVectorizer\n",
        "import nltk\n",
        "from nltk.corpus import stopwords\n",
        "\n",
        "# Download the stopwords if not already downloaded\n",
        "nltk.download('stopwords')\n",
        "\n",
        "# Get the list of English stopwords\n",
        "stopwords_list = stopwords.words('english')\n",
        "\n",
        "# Create the TfidfVectorizer with the list of stopwords\n",
        "vectorizer = TfidfVectorizer(stop_words=stopwords_list, binary=True)\n",
        "\n",
        "# target column 2 which is sentiment and 3 which is tweet content\n",
        "data = pd.read_csv('twitter.csv',usecols=[2,3], names=['sentiment', 'tweet_content'],encoding='latin-1')\n",
        "\n",
        "# Replace NaN with empty str\n",
        "data.fillna('', inplace=True)\n",
        "\n",
        "# Set up X and y\n",
        "X = vectorizer.fit_transform(data.tweet_content)\n",
        "y = data.sentiment\n",
        "\n",
        "# convert columns to string type\n",
        "data['sentiment'] = data['sentiment'].astype(str)\n",
        "data['tweet_content'] = data['tweet_content'].astype(str)\n",
        "\n",
        "\n",
        "# Set up X and y\n",
        "X = vectorizer.fit_transform(data.tweet_content)\n",
        "y = data.sentiment\n",
        "\n",
        "\n",
        "# Ensure input data is in the correct format\n",
        "# Apply the TfidfVectorizer\n",
        "\n",
        "# divide into train and test\n",
        "from sklearn.model_selection import train_test_split\n",
        "X_train, X_test, y_train, y_test = train_test_split(X, y, test_size=0.2, train_size=0.8, random_state=1234)\n",
        "\n",
        "\n",
        "\n",
        "from sklearn.neural_network import MLPClassifier\n",
        "classifier = MLPClassifier(solver='lbfgs', alpha=1e-5, max_iter=2000,\n",
        "                   hidden_layer_sizes=(15, 2), random_state=1)\n",
        "classifier.fit(X_train, y_train)\n"
      ],
      "metadata": {
        "colab": {
          "base_uri": "https://localhost:8080/",
          "height": 231
        },
        "id": "GixY4n113afI",
        "outputId": "4e69fa07-bbf1-4d77-8a2a-917a541c5353"
      },
      "execution_count": 146,
      "outputs": [
        {
          "output_type": "stream",
          "name": "stderr",
          "text": [
            "[nltk_data] Downloading package stopwords to /root/nltk_data...\n",
            "[nltk_data]   Package stopwords is already up-to-date!\n",
            "/usr/local/lib/python3.9/dist-packages/sklearn/neural_network/_multilayer_perceptron.py:541: ConvergenceWarning: lbfgs failed to converge (status=1):\n",
            "STOP: TOTAL NO. of ITERATIONS REACHED LIMIT.\n",
            "\n",
            "Increase the number of iterations (max_iter) or scale the data as shown in:\n",
            "    https://scikit-learn.org/stable/modules/preprocessing.html\n",
            "  self.n_iter_ = _check_optimize_result(\"lbfgs\", opt_res, self.max_iter)\n"
          ]
        },
        {
          "output_type": "execute_result",
          "data": {
            "text/plain": [
              "MLPClassifier(alpha=1e-05, hidden_layer_sizes=(15, 2), max_iter=2000,\n",
              "              random_state=1, solver='lbfgs')"
            ],
            "text/html": [
              "<style>#sk-container-id-20 {color: black;background-color: white;}#sk-container-id-20 pre{padding: 0;}#sk-container-id-20 div.sk-toggleable {background-color: white;}#sk-container-id-20 label.sk-toggleable__label {cursor: pointer;display: block;width: 100%;margin-bottom: 0;padding: 0.3em;box-sizing: border-box;text-align: center;}#sk-container-id-20 label.sk-toggleable__label-arrow:before {content: \"▸\";float: left;margin-right: 0.25em;color: #696969;}#sk-container-id-20 label.sk-toggleable__label-arrow:hover:before {color: black;}#sk-container-id-20 div.sk-estimator:hover label.sk-toggleable__label-arrow:before {color: black;}#sk-container-id-20 div.sk-toggleable__content {max-height: 0;max-width: 0;overflow: hidden;text-align: left;background-color: #f0f8ff;}#sk-container-id-20 div.sk-toggleable__content pre {margin: 0.2em;color: black;border-radius: 0.25em;background-color: #f0f8ff;}#sk-container-id-20 input.sk-toggleable__control:checked~div.sk-toggleable__content {max-height: 200px;max-width: 100%;overflow: auto;}#sk-container-id-20 input.sk-toggleable__control:checked~label.sk-toggleable__label-arrow:before {content: \"▾\";}#sk-container-id-20 div.sk-estimator input.sk-toggleable__control:checked~label.sk-toggleable__label {background-color: #d4ebff;}#sk-container-id-20 div.sk-label input.sk-toggleable__control:checked~label.sk-toggleable__label {background-color: #d4ebff;}#sk-container-id-20 input.sk-hidden--visually {border: 0;clip: rect(1px 1px 1px 1px);clip: rect(1px, 1px, 1px, 1px);height: 1px;margin: -1px;overflow: hidden;padding: 0;position: absolute;width: 1px;}#sk-container-id-20 div.sk-estimator {font-family: monospace;background-color: #f0f8ff;border: 1px dotted black;border-radius: 0.25em;box-sizing: border-box;margin-bottom: 0.5em;}#sk-container-id-20 div.sk-estimator:hover {background-color: #d4ebff;}#sk-container-id-20 div.sk-parallel-item::after {content: \"\";width: 100%;border-bottom: 1px solid gray;flex-grow: 1;}#sk-container-id-20 div.sk-label:hover label.sk-toggleable__label {background-color: #d4ebff;}#sk-container-id-20 div.sk-serial::before {content: \"\";position: absolute;border-left: 1px solid gray;box-sizing: border-box;top: 0;bottom: 0;left: 50%;z-index: 0;}#sk-container-id-20 div.sk-serial {display: flex;flex-direction: column;align-items: center;background-color: white;padding-right: 0.2em;padding-left: 0.2em;position: relative;}#sk-container-id-20 div.sk-item {position: relative;z-index: 1;}#sk-container-id-20 div.sk-parallel {display: flex;align-items: stretch;justify-content: center;background-color: white;position: relative;}#sk-container-id-20 div.sk-item::before, #sk-container-id-20 div.sk-parallel-item::before {content: \"\";position: absolute;border-left: 1px solid gray;box-sizing: border-box;top: 0;bottom: 0;left: 50%;z-index: -1;}#sk-container-id-20 div.sk-parallel-item {display: flex;flex-direction: column;z-index: 1;position: relative;background-color: white;}#sk-container-id-20 div.sk-parallel-item:first-child::after {align-self: flex-end;width: 50%;}#sk-container-id-20 div.sk-parallel-item:last-child::after {align-self: flex-start;width: 50%;}#sk-container-id-20 div.sk-parallel-item:only-child::after {width: 0;}#sk-container-id-20 div.sk-dashed-wrapped {border: 1px dashed gray;margin: 0 0.4em 0.5em 0.4em;box-sizing: border-box;padding-bottom: 0.4em;background-color: white;}#sk-container-id-20 div.sk-label label {font-family: monospace;font-weight: bold;display: inline-block;line-height: 1.2em;}#sk-container-id-20 div.sk-label-container {text-align: center;}#sk-container-id-20 div.sk-container {/* jupyter's `normalize.less` sets `[hidden] { display: none; }` but bootstrap.min.css set `[hidden] { display: none !important; }` so we also need the `!important` here to be able to override the default hidden behavior on the sphinx rendered scikit-learn.org. See: https://github.com/scikit-learn/scikit-learn/issues/21755 */display: inline-block !important;position: relative;}#sk-container-id-20 div.sk-text-repr-fallback {display: none;}</style><div id=\"sk-container-id-20\" class=\"sk-top-container\"><div class=\"sk-text-repr-fallback\"><pre>MLPClassifier(alpha=1e-05, hidden_layer_sizes=(15, 2), max_iter=2000,\n",
              "              random_state=1, solver=&#x27;lbfgs&#x27;)</pre><b>In a Jupyter environment, please rerun this cell to show the HTML representation or trust the notebook. <br />On GitHub, the HTML representation is unable to render, please try loading this page with nbviewer.org.</b></div><div class=\"sk-container\" hidden><div class=\"sk-item\"><div class=\"sk-estimator sk-toggleable\"><input class=\"sk-toggleable__control sk-hidden--visually\" id=\"sk-estimator-id-26\" type=\"checkbox\" checked><label for=\"sk-estimator-id-26\" class=\"sk-toggleable__label sk-toggleable__label-arrow\">MLPClassifier</label><div class=\"sk-toggleable__content\"><pre>MLPClassifier(alpha=1e-05, hidden_layer_sizes=(15, 2), max_iter=2000,\n",
              "              random_state=1, solver=&#x27;lbfgs&#x27;)</pre></div></div></div></div></div>"
            ]
          },
          "metadata": {},
          "execution_count": 146
        }
      ]
    },
    {
      "cell_type": "code",
      "source": [
        "from sklearn.metrics import accuracy_score\n",
        "from sklearn.metrics import precision_score, recall_score, f1_score\n",
        "pred = classifier.predict(X_test)\n",
        "print('accuracy score: ', accuracy_score(y_test, pred))\n",
        "print('precision score: ', precision_score(y_test, pred, average=None))\n",
        "print('recall score: ', recall_score(y_test, pred, average=None))\n",
        "print('f1 score: ', f1_score(y_test, pred, average=None))\n",
        "\n",
        "\n",
        "print('accuracy score ', accuracy_score(y_test, pred))\n",
        "print('precision score micro: ', precision_score(y_test, pred, average='micro'))\n",
        "print('recall score micro: ', recall_score(y_test, pred, average='micro'))\n",
        "print('f1 score micro: ', f1_score(y_test, pred, average='micro'))"
      ],
      "metadata": {
        "colab": {
          "base_uri": "https://localhost:8080/"
        },
        "id": "6OUWicJ_6AZy",
        "outputId": "d274c3f7-2e66-4788-9173-734c5a8e9beb"
      },
      "execution_count": 151,
      "outputs": [
        {
          "output_type": "stream",
          "name": "stdout",
          "text": [
            "accuracy score:  0.6910356832027851\n",
            "precision score:  [0.77754504 0.78903346 0.64365833 0.59383519]\n",
            "recall score:  [0.70170132 0.75166003 0.60535569 0.6946284 ]\n",
            "f1 score:  [0.73767886 0.76989345 0.62391971 0.6402894 ]\n",
            "accuracy score  0.6910356832027851\n",
            "precision score micro:  0.6910356832027851\n",
            "recall score micro:  0.6910356832027851\n",
            "f1 score micro:  0.6910356832027851\n"
          ]
        }
      ]
    },
    {
      "cell_type": "markdown",
      "source": [
        "The Neural Network returns a moderate performance which an accuracy score of 69.1%. I've displayed the other scores of each class seperately and the micro averaged scores 'positive', 'neutral', 'negative' and 'irrelevant'\n",
        "\n",
        "The performance of the classifier could have been further improved by exploring alternative methods."
      ],
      "metadata": {
        "id": "vEIvjiH_Bsow"
      }
    },
    {
      "cell_type": "markdown",
      "source": [
        "# Analysis - Conlusion\n",
        "\n",
        "\n",
        "    Logistic Regression:\n",
        "        Accuracy: 79.78%\n",
        "        Precision: [0.770, 0.851, 0.749, 0.808]\n",
        "        Recall: [0.816, 0.804, 0.802, 0.776]\n",
        "        F1 Score: [0.793, 0.827, 0.775, 0.792]\n",
        "        Log loss: 0.6687\n",
        "        Micro-averaged Precision, Recall, and F1 score are all equal to 79.78%.\n",
        "\n",
        "    Naive Bayes:\n",
        "        Accuracy: 73.60%\n",
        "        Precision: [0.961, 0.659, 0.857, 0.706]\n",
        "        Recall: [0.453, 0.900, 0.650, 0.816]\n",
        "        F1 Score: [0.615, 0.761, 0.739, 0.757]\n",
        "        Micro-averaged Precision, Recall, and F1 score are all equal to 73.60%.\n",
        "\n",
        "    Neural Network (MLPClassifier):\n",
        "        Accuracy: 69.10%\n",
        "        Precision: [0.778, 0.789, 0.644, 0.594]\n",
        "        Recall: [0.702, 0.752, 0.605, 0.695]\n",
        "        F1 Score: [0.738, 0.770, 0.624, 0.640]\n",
        "        Micro-averaged Precision, Recall, and F1 score are all equal to 69.10%.\n",
        "\n",
        "Out of the three methods, the Logistic Regression performs the best in terms of accuracy, precision, recall, and F1 score. The second best performing would be Naive Bayes, and lastly the lowest performing is Neural Network\n",
        "\n",
        "The dataset that I chose was a twitter analysis sentiment and it seems that it worked well with this data set since LR assumes a linear releationship. Generally, Logistic Regression is faster to train, interpret, and less prone to overfitting compared to Neural Networks. Each model highly depends on the specific problem and dataset so that's the reason why the results are how they are.\n",
        "\n",
        "The Neural network captures more complex patterns and it might have had a different outcome if a more complex dataset was used. Using NN requires more data and computational resources to train, but its also prone to overfitting. \n",
        "\n",
        "\n",
        "\n"
      ],
      "metadata": {
        "id": "BS7erNFVCbmz"
      }
    },
    {
      "cell_type": "code",
      "source": [],
      "metadata": {
        "id": "5lCRLfKhCQVv"
      },
      "execution_count": 151,
      "outputs": []
    }
  ]
}